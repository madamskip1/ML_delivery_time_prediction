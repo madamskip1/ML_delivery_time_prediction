{
 "cells": [
  {
   "cell_type": "code",
   "execution_count": 1,
   "id": "08d07374",
   "metadata": {},
   "outputs": [],
   "source": [
    "import numpy as np\n",
    "import pandas as pd\n",
    "import seaborn as sns\n",
    "from sklearn.preprocessing import OneHotEncoder\n",
    "from sklearn.model_selection import train_test_split\n",
    "\n",
    "def loadData(file_name):\n",
    "    return pd.read_json(\"../data/raw/\" + file_name, lines = True)\n",
    "\n",
    "def saveData(data, file_name):\n",
    "    data.to_csv(\"../data/processed/\" + file_name + \".csv\", index = False)"
   ]
  },
  {
   "cell_type": "markdown",
   "id": "928b1c64",
   "metadata": {},
   "source": [
    "### Wczytanie danych"
   ]
  },
  {
   "cell_type": "code",
   "execution_count": 2,
   "id": "bc80c68e",
   "metadata": {},
   "outputs": [],
   "source": [
    "deliveries = loadData(\"deliveries.jsonl\")\n",
    "users = loadData(\"users.jsonl\")\n",
    "sessions = loadData(\"sessions.jsonl\")\n",
    "products = loadData(\"products.jsonl\")"
   ]
  },
  {
   "cell_type": "markdown",
   "id": "01c85432",
   "metadata": {},
   "source": [
    "### Usunięcie niepotrzebnych kolumn i wierszy gdzie przedmioty były tylko przeglądane"
   ]
  },
  {
   "cell_type": "code",
   "execution_count": 3,
   "id": "ba857507",
   "metadata": {},
   "outputs": [],
   "source": [
    "data = sessions.merge(deliveries, on = \"purchase_id\", how = \"left\").merge(users, on = \"user_id\", how = \"left\")\n",
    "data = data[data[\"event_type\"] == \"BUY_PRODUCT\"]\n",
    "data.drop([\"session_id\", \"timestamp\", \"user_id\", \"product_id\", \"event_type\", \"offered_discount\", \"purchase_id\", \"name\", \"street\"], axis = 1, inplace=True)\n",
    "data.reset_index(inplace = True, drop = True)"
   ]
  },
  {
   "cell_type": "markdown",
   "id": "94791d2f",
   "metadata": {},
   "source": [
    "### Kodowanie danych kategorycznych"
   ]
  },
  {
   "cell_type": "code",
   "execution_count": 4,
   "id": "96ea17dd",
   "metadata": {},
   "outputs": [],
   "source": [
    "def oneHotEncoding(data, col):\n",
    "    encoder = OneHotEncoder()\n",
    "    encoded_cols = encoder.fit_transform(data[[col]]).toarray()\n",
    "    names_sufix = encoder.get_feature_names_out([col])\n",
    "    encoded_data = pd.DataFrame(data = encoded_cols, columns = names_sufix, dtype = bool) * 1\n",
    "    data.drop(col, axis = 1, inplace = True)\n",
    "    new_table = data.join(encoded_data)\n",
    "    \n",
    "    return new_table"
   ]
  },
  {
   "cell_type": "code",
   "execution_count": 5,
   "id": "3c97e117",
   "metadata": {},
   "outputs": [],
   "source": [
    "data = oneHotEncoding(data, \"city\")\n",
    "data = oneHotEncoding(data, \"delivery_company\")"
   ]
  },
  {
   "cell_type": "markdown",
   "id": "1bda175d",
   "metadata": {},
   "source": [
    "### Rzutowanie czasu zakupu i dostawy na *datetime*"
   ]
  },
  {
   "cell_type": "code",
   "execution_count": 6,
   "id": "7728bfc7",
   "metadata": {},
   "outputs": [],
   "source": [
    "data[\"delivery_timestamp\"] = pd.to_datetime(data[\"delivery_timestamp\"])\n",
    "data[\"purchase_timestamp\"] = pd.to_datetime(data[\"purchase_timestamp\"])"
   ]
  },
  {
   "cell_type": "markdown",
   "id": "c5640ce0",
   "metadata": {},
   "source": [
    "### Obliczenie czasu między zakupem, a dostawą"
   ]
  },
  {
   "cell_type": "code",
   "execution_count": 7,
   "id": "460b70d7",
   "metadata": {},
   "outputs": [],
   "source": [
    "data[\"time\"] = (data[\"delivery_timestamp\"] - data[\"purchase_timestamp\"]) / np.timedelta64(1,'h')"
   ]
  },
  {
   "cell_type": "markdown",
   "id": "4c1d55fa",
   "metadata": {},
   "source": [
    "### Rozdzielenie czasu zakupu na składowe"
   ]
  },
  {
   "cell_type": "code",
   "execution_count": 8,
   "id": "67426d9a",
   "metadata": {},
   "outputs": [],
   "source": [
    "data[\"purchase_day_of_week\"] = data[\"purchase_timestamp\"].dt.dayofweek\n",
    "data[\"purchase_hour\"] = data[\"purchase_timestamp\"].dt.hour\n",
    "data[\"purchase_minute\"] = data[\"purchase_timestamp\"].dt.minute\n",
    "data[\"purchase_second\"] = data[\"purchase_timestamp\"].dt.second"
   ]
  },
  {
   "cell_type": "markdown",
   "id": "5bc0cb21",
   "metadata": {},
   "source": [
    "### Ustalenie czy zakup odbył się w weekend"
   ]
  },
  {
   "cell_type": "code",
   "execution_count": 9,
   "id": "d6283e5d",
   "metadata": {},
   "outputs": [],
   "source": [
    "data[\"purchase_is_weekend\"] = data[\"purchase_day_of_week\"].isin([5, 6]) * 1"
   ]
  },
  {
   "cell_type": "markdown",
   "id": "34636bd6",
   "metadata": {},
   "source": [
    "### Kodowanie czasu i daty - dane cykliczne"
   ]
  },
  {
   "cell_type": "code",
   "execution_count": 10,
   "id": "f5bfdf3c",
   "metadata": {},
   "outputs": [],
   "source": [
    "def circuralEncoding(data, col_name, unique_nums):\n",
    "    data[col_name + \"_sin\"] = np.sin(data[col_name] * (2 * np.pi / unique_nums))\n",
    "    data[col_name + \"_cos\"] = np.cos(data[col_name] * (2 * np.pi / unique_nums))"
   ]
  },
  {
   "cell_type": "code",
   "execution_count": 11,
   "id": "05e75661",
   "metadata": {},
   "outputs": [],
   "source": [
    "circuralEncoding(data, \"purchase_day_of_week\", 7)"
   ]
  },
  {
   "cell_type": "code",
   "execution_count": 12,
   "id": "b76a127b",
   "metadata": {},
   "outputs": [],
   "source": [
    "circuralEncoding(data, \"purchase_hour\", 24)\n",
    "circuralEncoding(data, \"purchase_minute\", 60)"
   ]
  },
  {
   "cell_type": "code",
   "execution_count": 13,
   "id": "84159d25",
   "metadata": {},
   "outputs": [],
   "source": [
    "data.drop([\"purchase_timestamp\", \"delivery_timestamp\",\"purchase_day_of_week\", \"purchase_hour\", \"purchase_minute\", \"purchase_second\"], axis = 1, inplace = True)"
   ]
  },
  {
   "cell_type": "markdown",
   "id": "fbcb2554",
   "metadata": {},
   "source": [
    "### Zawartość *data*"
   ]
  },
  {
   "cell_type": "code",
   "execution_count": 14,
   "id": "20a95aa6",
   "metadata": {},
   "outputs": [],
   "source": [
    "data.insert(len(data.columns)-1, 'time', data.pop('time'))"
   ]
  },
  {
   "cell_type": "code",
   "execution_count": 15,
   "id": "97da640c",
   "metadata": {},
   "outputs": [
    {
     "name": "stdout",
     "output_type": "stream",
     "text": [
      "<class 'pandas.core.frame.DataFrame'>\n",
      "RangeIndex: 7383 entries, 0 to 7382\n",
      "Data columns (total 18 columns):\n",
      " #   Column                    Non-Null Count  Dtype  \n",
      "---  ------                    --------------  -----  \n",
      " 0   city_Gdynia               7383 non-null   int32  \n",
      " 1   city_Kraków               7383 non-null   int32  \n",
      " 2   city_Poznań               7383 non-null   int32  \n",
      " 3   city_Radom                7383 non-null   int32  \n",
      " 4   city_Szczecin             7383 non-null   int32  \n",
      " 5   city_Warszawa             7383 non-null   int32  \n",
      " 6   city_Wrocław              7383 non-null   int32  \n",
      " 7   delivery_company_360.0    7383 non-null   int32  \n",
      " 8   delivery_company_516.0    7383 non-null   int32  \n",
      " 9   delivery_company_620.0    7383 non-null   int32  \n",
      " 10  purchase_is_weekend       7383 non-null   int32  \n",
      " 11  purchase_day_of_week_sin  7383 non-null   float64\n",
      " 12  purchase_day_of_week_cos  7383 non-null   float64\n",
      " 13  purchase_hour_sin         7383 non-null   float64\n",
      " 14  purchase_hour_cos         7383 non-null   float64\n",
      " 15  purchase_minute_sin       7383 non-null   float64\n",
      " 16  purchase_minute_cos       7383 non-null   float64\n",
      " 17  time                      7383 non-null   float64\n",
      "dtypes: float64(7), int32(11)\n",
      "memory usage: 721.1 KB\n"
     ]
    }
   ],
   "source": [
    "data.info()"
   ]
  },
  {
   "cell_type": "code",
   "execution_count": 16,
   "id": "e9b3b76d",
   "metadata": {},
   "outputs": [
    {
     "data": {
      "text/html": [
       "<div>\n",
       "<style scoped>\n",
       "    .dataframe tbody tr th:only-of-type {\n",
       "        vertical-align: middle;\n",
       "    }\n",
       "\n",
       "    .dataframe tbody tr th {\n",
       "        vertical-align: top;\n",
       "    }\n",
       "\n",
       "    .dataframe thead th {\n",
       "        text-align: right;\n",
       "    }\n",
       "</style>\n",
       "<table border=\"1\" class=\"dataframe\">\n",
       "  <thead>\n",
       "    <tr style=\"text-align: right;\">\n",
       "      <th></th>\n",
       "      <th>city_Gdynia</th>\n",
       "      <th>city_Kraków</th>\n",
       "      <th>city_Poznań</th>\n",
       "      <th>city_Radom</th>\n",
       "      <th>city_Szczecin</th>\n",
       "      <th>city_Warszawa</th>\n",
       "      <th>city_Wrocław</th>\n",
       "      <th>delivery_company_360.0</th>\n",
       "      <th>delivery_company_516.0</th>\n",
       "      <th>delivery_company_620.0</th>\n",
       "      <th>purchase_is_weekend</th>\n",
       "      <th>purchase_day_of_week_sin</th>\n",
       "      <th>purchase_day_of_week_cos</th>\n",
       "      <th>purchase_hour_sin</th>\n",
       "      <th>purchase_hour_cos</th>\n",
       "      <th>purchase_minute_sin</th>\n",
       "      <th>purchase_minute_cos</th>\n",
       "      <th>time</th>\n",
       "    </tr>\n",
       "  </thead>\n",
       "  <tbody>\n",
       "    <tr>\n",
       "      <th>0</th>\n",
       "      <td>0</td>\n",
       "      <td>1</td>\n",
       "      <td>0</td>\n",
       "      <td>0</td>\n",
       "      <td>0</td>\n",
       "      <td>0</td>\n",
       "      <td>0</td>\n",
       "      <td>0</td>\n",
       "      <td>0</td>\n",
       "      <td>1</td>\n",
       "      <td>1</td>\n",
       "      <td>-0.781831</td>\n",
       "      <td>0.623490</td>\n",
       "      <td>8.660254e-01</td>\n",
       "      <td>5.000000e-01</td>\n",
       "      <td>5.877853e-01</td>\n",
       "      <td>8.090170e-01</td>\n",
       "      <td>54.442714</td>\n",
       "    </tr>\n",
       "    <tr>\n",
       "      <th>1</th>\n",
       "      <td>0</td>\n",
       "      <td>1</td>\n",
       "      <td>0</td>\n",
       "      <td>0</td>\n",
       "      <td>0</td>\n",
       "      <td>0</td>\n",
       "      <td>0</td>\n",
       "      <td>1</td>\n",
       "      <td>0</td>\n",
       "      <td>0</td>\n",
       "      <td>0</td>\n",
       "      <td>0.974928</td>\n",
       "      <td>-0.222521</td>\n",
       "      <td>-9.659258e-01</td>\n",
       "      <td>-2.588190e-01</td>\n",
       "      <td>3.090170e-01</td>\n",
       "      <td>9.510565e-01</td>\n",
       "      <td>65.429676</td>\n",
       "    </tr>\n",
       "    <tr>\n",
       "      <th>2</th>\n",
       "      <td>0</td>\n",
       "      <td>1</td>\n",
       "      <td>0</td>\n",
       "      <td>0</td>\n",
       "      <td>0</td>\n",
       "      <td>0</td>\n",
       "      <td>0</td>\n",
       "      <td>0</td>\n",
       "      <td>0</td>\n",
       "      <td>1</td>\n",
       "      <td>0</td>\n",
       "      <td>-0.433884</td>\n",
       "      <td>-0.900969</td>\n",
       "      <td>-7.071068e-01</td>\n",
       "      <td>7.071068e-01</td>\n",
       "      <td>1.224647e-16</td>\n",
       "      <td>-1.000000e+00</td>\n",
       "      <td>58.517116</td>\n",
       "    </tr>\n",
       "    <tr>\n",
       "      <th>3</th>\n",
       "      <td>0</td>\n",
       "      <td>1</td>\n",
       "      <td>0</td>\n",
       "      <td>0</td>\n",
       "      <td>0</td>\n",
       "      <td>0</td>\n",
       "      <td>0</td>\n",
       "      <td>0</td>\n",
       "      <td>0</td>\n",
       "      <td>1</td>\n",
       "      <td>0</td>\n",
       "      <td>0.433884</td>\n",
       "      <td>-0.900969</td>\n",
       "      <td>9.659258e-01</td>\n",
       "      <td>2.588190e-01</td>\n",
       "      <td>-1.045285e-01</td>\n",
       "      <td>9.945219e-01</td>\n",
       "      <td>55.222574</td>\n",
       "    </tr>\n",
       "    <tr>\n",
       "      <th>4</th>\n",
       "      <td>0</td>\n",
       "      <td>1</td>\n",
       "      <td>0</td>\n",
       "      <td>0</td>\n",
       "      <td>0</td>\n",
       "      <td>0</td>\n",
       "      <td>0</td>\n",
       "      <td>0</td>\n",
       "      <td>0</td>\n",
       "      <td>1</td>\n",
       "      <td>0</td>\n",
       "      <td>0.000000</td>\n",
       "      <td>1.000000</td>\n",
       "      <td>9.659258e-01</td>\n",
       "      <td>-2.588190e-01</td>\n",
       "      <td>3.090170e-01</td>\n",
       "      <td>9.510565e-01</td>\n",
       "      <td>56.719851</td>\n",
       "    </tr>\n",
       "    <tr>\n",
       "      <th>...</th>\n",
       "      <td>...</td>\n",
       "      <td>...</td>\n",
       "      <td>...</td>\n",
       "      <td>...</td>\n",
       "      <td>...</td>\n",
       "      <td>...</td>\n",
       "      <td>...</td>\n",
       "      <td>...</td>\n",
       "      <td>...</td>\n",
       "      <td>...</td>\n",
       "      <td>...</td>\n",
       "      <td>...</td>\n",
       "      <td>...</td>\n",
       "      <td>...</td>\n",
       "      <td>...</td>\n",
       "      <td>...</td>\n",
       "      <td>...</td>\n",
       "      <td>...</td>\n",
       "    </tr>\n",
       "    <tr>\n",
       "      <th>7378</th>\n",
       "      <td>0</td>\n",
       "      <td>0</td>\n",
       "      <td>0</td>\n",
       "      <td>0</td>\n",
       "      <td>0</td>\n",
       "      <td>0</td>\n",
       "      <td>1</td>\n",
       "      <td>1</td>\n",
       "      <td>0</td>\n",
       "      <td>0</td>\n",
       "      <td>0</td>\n",
       "      <td>-0.433884</td>\n",
       "      <td>-0.900969</td>\n",
       "      <td>7.071068e-01</td>\n",
       "      <td>7.071068e-01</td>\n",
       "      <td>-3.090170e-01</td>\n",
       "      <td>-9.510565e-01</td>\n",
       "      <td>77.138135</td>\n",
       "    </tr>\n",
       "    <tr>\n",
       "      <th>7379</th>\n",
       "      <td>0</td>\n",
       "      <td>0</td>\n",
       "      <td>0</td>\n",
       "      <td>0</td>\n",
       "      <td>0</td>\n",
       "      <td>0</td>\n",
       "      <td>1</td>\n",
       "      <td>1</td>\n",
       "      <td>0</td>\n",
       "      <td>0</td>\n",
       "      <td>1</td>\n",
       "      <td>-0.781831</td>\n",
       "      <td>0.623490</td>\n",
       "      <td>1.224647e-16</td>\n",
       "      <td>-1.000000e+00</td>\n",
       "      <td>9.781476e-01</td>\n",
       "      <td>2.079117e-01</td>\n",
       "      <td>44.158122</td>\n",
       "    </tr>\n",
       "    <tr>\n",
       "      <th>7380</th>\n",
       "      <td>0</td>\n",
       "      <td>0</td>\n",
       "      <td>0</td>\n",
       "      <td>0</td>\n",
       "      <td>0</td>\n",
       "      <td>0</td>\n",
       "      <td>1</td>\n",
       "      <td>1</td>\n",
       "      <td>0</td>\n",
       "      <td>0</td>\n",
       "      <td>0</td>\n",
       "      <td>0.433884</td>\n",
       "      <td>-0.900969</td>\n",
       "      <td>-1.000000e+00</td>\n",
       "      <td>-1.836970e-16</td>\n",
       "      <td>1.000000e+00</td>\n",
       "      <td>6.123234e-17</td>\n",
       "      <td>43.149846</td>\n",
       "    </tr>\n",
       "    <tr>\n",
       "      <th>7381</th>\n",
       "      <td>0</td>\n",
       "      <td>0</td>\n",
       "      <td>0</td>\n",
       "      <td>0</td>\n",
       "      <td>0</td>\n",
       "      <td>0</td>\n",
       "      <td>1</td>\n",
       "      <td>0</td>\n",
       "      <td>0</td>\n",
       "      <td>1</td>\n",
       "      <td>1</td>\n",
       "      <td>-0.781831</td>\n",
       "      <td>0.623490</td>\n",
       "      <td>-5.000000e-01</td>\n",
       "      <td>-8.660254e-01</td>\n",
       "      <td>-9.510565e-01</td>\n",
       "      <td>3.090170e-01</td>\n",
       "      <td>18.115892</td>\n",
       "    </tr>\n",
       "    <tr>\n",
       "      <th>7382</th>\n",
       "      <td>0</td>\n",
       "      <td>0</td>\n",
       "      <td>0</td>\n",
       "      <td>0</td>\n",
       "      <td>0</td>\n",
       "      <td>0</td>\n",
       "      <td>1</td>\n",
       "      <td>1</td>\n",
       "      <td>0</td>\n",
       "      <td>0</td>\n",
       "      <td>1</td>\n",
       "      <td>-0.781831</td>\n",
       "      <td>0.623490</td>\n",
       "      <td>9.659258e-01</td>\n",
       "      <td>2.588190e-01</td>\n",
       "      <td>-7.431448e-01</td>\n",
       "      <td>-6.691306e-01</td>\n",
       "      <td>53.779790</td>\n",
       "    </tr>\n",
       "  </tbody>\n",
       "</table>\n",
       "<p>7383 rows × 18 columns</p>\n",
       "</div>"
      ],
      "text/plain": [
       "      city_Gdynia  city_Kraków  city_Poznań  city_Radom  city_Szczecin  \\\n",
       "0               0            1            0           0              0   \n",
       "1               0            1            0           0              0   \n",
       "2               0            1            0           0              0   \n",
       "3               0            1            0           0              0   \n",
       "4               0            1            0           0              0   \n",
       "...           ...          ...          ...         ...            ...   \n",
       "7378            0            0            0           0              0   \n",
       "7379            0            0            0           0              0   \n",
       "7380            0            0            0           0              0   \n",
       "7381            0            0            0           0              0   \n",
       "7382            0            0            0           0              0   \n",
       "\n",
       "      city_Warszawa  city_Wrocław  delivery_company_360.0  \\\n",
       "0                 0             0                       0   \n",
       "1                 0             0                       1   \n",
       "2                 0             0                       0   \n",
       "3                 0             0                       0   \n",
       "4                 0             0                       0   \n",
       "...             ...           ...                     ...   \n",
       "7378              0             1                       1   \n",
       "7379              0             1                       1   \n",
       "7380              0             1                       1   \n",
       "7381              0             1                       0   \n",
       "7382              0             1                       1   \n",
       "\n",
       "      delivery_company_516.0  delivery_company_620.0  purchase_is_weekend  \\\n",
       "0                          0                       1                    1   \n",
       "1                          0                       0                    0   \n",
       "2                          0                       1                    0   \n",
       "3                          0                       1                    0   \n",
       "4                          0                       1                    0   \n",
       "...                      ...                     ...                  ...   \n",
       "7378                       0                       0                    0   \n",
       "7379                       0                       0                    1   \n",
       "7380                       0                       0                    0   \n",
       "7381                       0                       1                    1   \n",
       "7382                       0                       0                    1   \n",
       "\n",
       "      purchase_day_of_week_sin  purchase_day_of_week_cos  purchase_hour_sin  \\\n",
       "0                    -0.781831                  0.623490       8.660254e-01   \n",
       "1                     0.974928                 -0.222521      -9.659258e-01   \n",
       "2                    -0.433884                 -0.900969      -7.071068e-01   \n",
       "3                     0.433884                 -0.900969       9.659258e-01   \n",
       "4                     0.000000                  1.000000       9.659258e-01   \n",
       "...                        ...                       ...                ...   \n",
       "7378                 -0.433884                 -0.900969       7.071068e-01   \n",
       "7379                 -0.781831                  0.623490       1.224647e-16   \n",
       "7380                  0.433884                 -0.900969      -1.000000e+00   \n",
       "7381                 -0.781831                  0.623490      -5.000000e-01   \n",
       "7382                 -0.781831                  0.623490       9.659258e-01   \n",
       "\n",
       "      purchase_hour_cos  purchase_minute_sin  purchase_minute_cos       time  \n",
       "0          5.000000e-01         5.877853e-01         8.090170e-01  54.442714  \n",
       "1         -2.588190e-01         3.090170e-01         9.510565e-01  65.429676  \n",
       "2          7.071068e-01         1.224647e-16        -1.000000e+00  58.517116  \n",
       "3          2.588190e-01        -1.045285e-01         9.945219e-01  55.222574  \n",
       "4         -2.588190e-01         3.090170e-01         9.510565e-01  56.719851  \n",
       "...                 ...                  ...                  ...        ...  \n",
       "7378       7.071068e-01        -3.090170e-01        -9.510565e-01  77.138135  \n",
       "7379      -1.000000e+00         9.781476e-01         2.079117e-01  44.158122  \n",
       "7380      -1.836970e-16         1.000000e+00         6.123234e-17  43.149846  \n",
       "7381      -8.660254e-01        -9.510565e-01         3.090170e-01  18.115892  \n",
       "7382       2.588190e-01        -7.431448e-01        -6.691306e-01  53.779790  \n",
       "\n",
       "[7383 rows x 18 columns]"
      ]
     },
     "execution_count": 16,
     "metadata": {},
     "output_type": "execute_result"
    }
   ],
   "source": [
    "data"
   ]
  },
  {
   "cell_type": "markdown",
   "id": "b5ea6b84",
   "metadata": {},
   "source": [
    "### Zapisanie zmergowanych danych"
   ]
  },
  {
   "cell_type": "code",
   "execution_count": 17,
   "id": "bb859862",
   "metadata": {
    "scrolled": true
   },
   "outputs": [],
   "source": [
    "saveData(data, \"processed_data\")"
   ]
  },
  {
   "cell_type": "markdown",
   "id": "d1dea9c6",
   "metadata": {},
   "source": [
    "### Podział danych na treningowe, developerskie i testowe"
   ]
  },
  {
   "cell_type": "code",
   "execution_count": 18,
   "id": "690e2461",
   "metadata": {},
   "outputs": [],
   "source": [
    "TRAIN_SIZE = 0.75"
   ]
  },
  {
   "cell_type": "code",
   "execution_count": 19,
   "id": "a589cbf2",
   "metadata": {},
   "outputs": [],
   "source": [
    "train_data, test_data = train_test_split(data, train_size = TRAIN_SIZE)"
   ]
  },
  {
   "cell_type": "markdown",
   "id": "3ec7e43a",
   "metadata": {},
   "source": [
    "### Zapisanie danych do plików"
   ]
  },
  {
   "cell_type": "code",
   "execution_count": 20,
   "id": "0b36959f",
   "metadata": {},
   "outputs": [],
   "source": [
    "saveData(train_data, \"train\")\n",
    "saveData(test_data, \"test\")"
   ]
  }
 ],
 "metadata": {
  "kernelspec": {
   "display_name": "Python 3 (ipykernel)",
   "language": "python",
   "name": "python3"
  },
  "language_info": {
   "codemirror_mode": {
    "name": "ipython",
    "version": 3
   },
   "file_extension": ".py",
   "mimetype": "text/x-python",
   "name": "python",
   "nbconvert_exporter": "python",
   "pygments_lexer": "ipython3",
   "version": "3.10.1"
  }
 },
 "nbformat": 4,
 "nbformat_minor": 5
}
