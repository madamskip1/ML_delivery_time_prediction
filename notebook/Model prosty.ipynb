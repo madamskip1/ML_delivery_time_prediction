{
 "cells": [
  {
   "cell_type": "markdown",
   "id": "59822396",
   "metadata": {},
   "source": [
    "## Model prosty"
   ]
  },
  {
   "cell_type": "markdown",
   "id": "afcdcb2d",
   "metadata": {},
   "source": [
    "Model prosty opiera się na średnim czasie dostawy dla danego miasta."
   ]
  },
  {
   "cell_type": "code",
   "execution_count": 1,
   "id": "a9e12e3c",
   "metadata": {},
   "outputs": [],
   "source": [
    "import numpy as np\n",
    "import pandas as pd"
   ]
  },
  {
   "cell_type": "code",
   "execution_count": 2,
   "id": "51d34a72",
   "metadata": {},
   "outputs": [],
   "source": [
    "def loadData(file_name):\n",
    "    return pd.read_csv(\"../data/processed/\" + file_name)\n",
    "\n",
    "train_data = loadData(\"train.csv\")\n",
    "test_data = loadData(\"test.csv\")"
   ]
  },
  {
   "cell_type": "markdown",
   "id": "f505fba5",
   "metadata": {},
   "source": [
    "### Obliczenie średniego czasu dostawy do poszczególnych miast"
   ]
  },
  {
   "cell_type": "code",
   "execution_count": 3,
   "id": "0f337678",
   "metadata": {},
   "outputs": [],
   "source": [
    "cities = []\n",
    "\n",
    "for col in train_data.columns:\n",
    "    if col.find(\"city_\") != -1:\n",
    "        cities.append(col)"
   ]
  },
  {
   "cell_type": "code",
   "execution_count": 4,
   "id": "81034fcc",
   "metadata": {},
   "outputs": [],
   "source": [
    "city_mean_time = []\n",
    "\n",
    "for city in cities:\n",
    "    city_data = train_data[train_data[city] == 1]\n",
    "    mean = city_data[\"time\"].mean()\n",
    "    city_mean_time.append({\"city\": city, \"mean\": mean})"
   ]
  },
  {
   "cell_type": "code",
   "execution_count": 5,
   "id": "d54ccdde",
   "metadata": {},
   "outputs": [
    {
     "data": {
      "text/plain": [
       "[{'city': 'city_Gdynia', 'mean': 64.26805205119678},\n",
       " {'city': 'city_Kraków', 'mean': 62.62076919196445},\n",
       " {'city': 'city_Poznań', 'mean': 34.08967932140434},\n",
       " {'city': 'city_Radom', 'mean': 33.88207843723295},\n",
       " {'city': 'city_Szczecin', 'mean': 45.3281002498343},\n",
       " {'city': 'city_Warszawa', 'mean': 67.42875904248407},\n",
       " {'city': 'city_Wrocław', 'mean': 36.56925459679495}]"
      ]
     },
     "execution_count": 5,
     "metadata": {},
     "output_type": "execute_result"
    }
   ],
   "source": [
    "city_mean_time"
   ]
  },
  {
   "cell_type": "markdown",
   "id": "dec4174a",
   "metadata": {},
   "source": [
    "### Zapisanie prostego modelu ze średnim czasem dostawy do poszczególnych miast"
   ]
  },
  {
   "cell_type": "code",
   "execution_count": 6,
   "id": "7c43a93c",
   "metadata": {
    "scrolled": true
   },
   "outputs": [],
   "source": [
    "city_mean_time_df = pd.DataFrame(city_mean_time)"
   ]
  },
  {
   "cell_type": "code",
   "execution_count": 7,
   "id": "fad87e96",
   "metadata": {},
   "outputs": [],
   "source": [
    "city_mean_time_df.to_json(\"../models/simple_model.jsonl\", orient = \"records\", lines = True)"
   ]
  },
  {
   "cell_type": "markdown",
   "id": "3b2af948",
   "metadata": {},
   "source": [
    "### Obliczenie błędu średniokwadratowego dla modelu prostego na zbiorze testowym"
   ]
  },
  {
   "cell_type": "code",
   "execution_count": 8,
   "id": "20e2b043",
   "metadata": {},
   "outputs": [],
   "source": [
    "def calcSE(expected_values, predicted_value):\n",
    "    squared_errors = []\n",
    "    for expected_value in expected_values:\n",
    "        squared_errors.append(np.square(expected_value - predicted_value))\n",
    "\n",
    "    return squared_errors"
   ]
  },
  {
   "cell_type": "code",
   "execution_count": 9,
   "id": "68fa163c",
   "metadata": {},
   "outputs": [],
   "source": [
    "cities_MSE = []\n",
    "all_cities_SE = []\n",
    "\n",
    "for i in city_mean_time:\n",
    "    city = i[\"city\"]\n",
    "    predicted_value = i[\"mean\"]\n",
    "    expected_values = test_data[test_data[city] == 1][\"time\"]\n",
    "    SE = calcSE(expected_values, predicted_value)\n",
    "    cities_MSE.append({\"city\": city, \"MSE\": np.mean(SE)})\n",
    "    all_cities_SE += SE\n",
    "    \n",
    "MSE = np.mean(all_cities_SE)"
   ]
  },
  {
   "cell_type": "code",
   "execution_count": 10,
   "id": "c148aa10",
   "metadata": {
    "scrolled": true
   },
   "outputs": [
    {
     "name": "stdout",
     "output_type": "stream",
     "text": [
      "city_Gdynia: 233.55553585217558\n",
      "city_Kraków: 237.8301371682691\n",
      "city_Poznań: 193.39858162645535\n",
      "city_Radom: 281.588009546685\n",
      "city_Szczecin: 161.68071110843812\n",
      "city_Warszawa: 196.210032624335\n",
      "city_Wrocław: 259.67779589676746\n"
     ]
    }
   ],
   "source": [
    "for i in cities_MSE:\n",
    "    print(i[\"city\"] + \": \" + str(i[\"MSE\"]))"
   ]
  },
  {
   "cell_type": "code",
   "execution_count": 11,
   "id": "2ddb4462",
   "metadata": {},
   "outputs": [
    {
     "data": {
      "text/plain": [
       "218.92768308594898"
      ]
     },
     "execution_count": 11,
     "metadata": {},
     "output_type": "execute_result"
    }
   ],
   "source": [
    "MSE"
   ]
  },
  {
   "cell_type": "markdown",
   "id": "e730c6ad",
   "metadata": {},
   "source": [
    "### Zapisanie obliczonych błędów średniokwadratowych jako dane statystyczne"
   ]
  },
  {
   "cell_type": "code",
   "execution_count": 12,
   "id": "b57edbf0",
   "metadata": {},
   "outputs": [],
   "source": [
    "cities_MSE_df = pd.DataFrame(cities_MSE)\n",
    "cities_MSE_df.to_json(\"../statistics/\" + \"cities_MSE_test_simple_model.jsonl\", orient = \"records\", lines = True)"
   ]
  },
  {
   "cell_type": "code",
   "execution_count": 13,
   "id": "7d92191b",
   "metadata": {},
   "outputs": [
    {
     "ename": "NameError",
     "evalue": "name 'MSE_df' is not defined",
     "output_type": "error",
     "traceback": [
      "\u001b[1;31m---------------------------------------------------------------------------\u001b[0m",
      "\u001b[1;31mNameError\u001b[0m                                 Traceback (most recent call last)",
      "\u001b[1;32mC:\\Users\\MACIEJ~1\\AppData\\Local\\Temp/ipykernel_22780/2167950564.py\u001b[0m in \u001b[0;36m<module>\u001b[1;34m\u001b[0m\n\u001b[1;32m----> 1\u001b[1;33m \u001b[0mMSE_df\u001b[0m\u001b[1;33m.\u001b[0m\u001b[0mto_json\u001b[0m\u001b[1;33m(\u001b[0m\u001b[1;34m\"../statistics/\"\u001b[0m \u001b[1;33m+\u001b[0m \u001b[1;34m\"MSE_test_simple_model.jsonl\"\u001b[0m\u001b[1;33m,\u001b[0m \u001b[0morient\u001b[0m \u001b[1;33m=\u001b[0m \u001b[1;34m\"records\"\u001b[0m\u001b[1;33m,\u001b[0m \u001b[0mlines\u001b[0m \u001b[1;33m=\u001b[0m \u001b[1;32mTrue\u001b[0m\u001b[1;33m)\u001b[0m\u001b[1;33m\u001b[0m\u001b[0m\n\u001b[0m",
      "\u001b[1;31mNameError\u001b[0m: name 'MSE_df' is not defined"
     ]
    }
   ],
   "source": [
    "MSE_df.to_json(\"../statistics/\" + \"MSE_test_simple_model.jsonl\", orient = \"records\", lines = True)"
   ]
  }
 ],
 "metadata": {
  "kernelspec": {
   "display_name": "Python 3 (ipykernel)",
   "language": "python",
   "name": "python3"
  },
  "language_info": {
   "codemirror_mode": {
    "name": "ipython",
    "version": 3
   },
   "file_extension": ".py",
   "mimetype": "text/x-python",
   "name": "python",
   "nbconvert_exporter": "python",
   "pygments_lexer": "ipython3",
   "version": "3.7.0"
  }
 },
 "nbformat": 4,
 "nbformat_minor": 5
}
