{
 "cells": [
  {
   "cell_type": "markdown",
   "id": "59822396",
   "metadata": {},
   "source": [
    "## Model prosty"
   ]
  },
  {
   "cell_type": "markdown",
   "id": "afcdcb2d",
   "metadata": {},
   "source": [
    "Model prosty opiera się na średnim czasie dostawy dla danego miasta."
   ]
  },
  {
   "cell_type": "code",
   "execution_count": 1,
   "id": "a9e12e3c",
   "metadata": {},
   "outputs": [],
   "source": [
    "import numpy as np\n",
    "import pandas as pd"
   ]
  },
  {
   "cell_type": "code",
   "execution_count": 2,
   "id": "51d34a72",
   "metadata": {},
   "outputs": [],
   "source": [
    "def loadData(file_name):\n",
    "    return pd.read_csv(\"../data/processed/\" + file_name)\n",
    "\n",
    "train_data = loadData(\"train.csv\")\n",
    "test_data = loadData(\"test.csv\")"
   ]
  },
  {
   "cell_type": "markdown",
   "id": "f505fba5",
   "metadata": {},
   "source": [
    "### Obliczenie średniego czasu dostawy do poszczególnych miast"
   ]
  },
  {
   "cell_type": "code",
   "execution_count": 3,
   "id": "0f337678",
   "metadata": {},
   "outputs": [],
   "source": [
    "cities = []\n",
    "\n",
    "for col in train_data.columns:\n",
    "    if col.find(\"city_\") != -1:\n",
    "        cities.append(col)"
   ]
  },
  {
   "cell_type": "code",
   "execution_count": 4,
   "id": "81034fcc",
   "metadata": {},
   "outputs": [],
   "source": [
    "city_mean_time = []\n",
    "\n",
    "for city in cities:\n",
    "    city_data = train_data[train_data[city] == 1]\n",
    "    mean = city_data[\"time\"].mean()\n",
    "    city_mean_time.append({\"city\": city, \"mean\": mean})"
   ]
  },
  {
   "cell_type": "code",
   "execution_count": 5,
   "id": "d54ccdde",
   "metadata": {},
   "outputs": [
    {
     "data": {
      "text/plain": [
       "[{'city': 'city_Gdynia', 'mean': 64.36344283976457},\n",
       " {'city': 'city_Kraków', 'mean': 63.06092220914909},\n",
       " {'city': 'city_Poznań', 'mean': 34.06558378410688},\n",
       " {'city': 'city_Radom', 'mean': 34.23536625702981},\n",
       " {'city': 'city_Szczecin', 'mean': 45.67352960491322},\n",
       " {'city': 'city_Warszawa', 'mean': 67.2797620398303},\n",
       " {'city': 'city_Wrocław', 'mean': 36.706918579398604}]"
      ]
     },
     "execution_count": 5,
     "metadata": {},
     "output_type": "execute_result"
    }
   ],
   "source": [
    "city_mean_time"
   ]
  },
  {
   "cell_type": "markdown",
   "id": "dec4174a",
   "metadata": {},
   "source": [
    "### Zapisanie prostego modelu ze średnim czasem dostawy do poszczególnych miast"
   ]
  },
  {
   "cell_type": "code",
   "execution_count": 6,
   "id": "7c43a93c",
   "metadata": {
    "scrolled": true
   },
   "outputs": [],
   "source": [
    "city_mean_time_df = pd.DataFrame(city_mean_time)"
   ]
  },
  {
   "cell_type": "code",
   "execution_count": 7,
   "id": "fad87e96",
   "metadata": {},
   "outputs": [],
   "source": [
    "city_mean_time_df.to_json(\"../models/simple_model.jsonl\", orient = \"records\", lines = True)"
   ]
  },
  {
   "cell_type": "markdown",
   "id": "3b2af948",
   "metadata": {},
   "source": [
    "### Obliczenie błędu średniokwadratowego dla modelu prostego na zbiorze testowym"
   ]
  },
  {
   "cell_type": "code",
   "execution_count": 8,
   "id": "20e2b043",
   "metadata": {},
   "outputs": [],
   "source": [
    "def calcSE(expected_values, predicted_value):\n",
    "    squared_errors = []\n",
    "    for expected_value in expected_values:\n",
    "        squared_errors.append(np.square(expected_value - predicted_value))\n",
    "\n",
    "    return squared_errors"
   ]
  },
  {
   "cell_type": "code",
   "execution_count": 9,
   "id": "68fa163c",
   "metadata": {},
   "outputs": [],
   "source": [
    "cities_MSE = []\n",
    "all_cities_SE = []\n",
    "\n",
    "for i in city_mean_time:\n",
    "    city = i[\"city\"]\n",
    "    predicted_value = i[\"mean\"]\n",
    "    expected_values = test_data[test_data[city] == 1][\"time\"]\n",
    "    SE = calcSE(expected_values, predicted_value)\n",
    "    cities_MSE.append({\"city\": city, \"MSE\": np.mean(SE)})\n",
    "    all_cities_SE += SE\n",
    "    \n",
    "MSE = np.mean(all_cities_SE)"
   ]
  },
  {
   "cell_type": "code",
   "execution_count": 10,
   "id": "c148aa10",
   "metadata": {
    "scrolled": true
   },
   "outputs": [
    {
     "name": "stdout",
     "output_type": "stream",
     "text": [
      "city_Gdynia: 185.50272689512488\n",
      "city_Kraków: 225.88365141931894\n",
      "city_Poznań: 177.13769681060285\n",
      "city_Radom: 252.23751334286396\n",
      "city_Szczecin: 139.30450527307963\n",
      "city_Warszawa: 215.88165665690838\n",
      "city_Wrocław: 256.42898483878946\n"
     ]
    }
   ],
   "source": [
    "for i in cities_MSE:\n",
    "    print(i[\"city\"] + \": \" + str(i[\"MSE\"]))"
   ]
  },
  {
   "cell_type": "code",
   "execution_count": 11,
   "id": "2ddb4462",
   "metadata": {},
   "outputs": [
    {
     "data": {
      "text/plain": [
       "202.1280281573506"
      ]
     },
     "execution_count": 11,
     "metadata": {},
     "output_type": "execute_result"
    }
   ],
   "source": [
    "MSE"
   ]
  },
  {
   "cell_type": "markdown",
   "id": "e730c6ad",
   "metadata": {},
   "source": [
    "### Zapisanie obliczonych błędów średniokwadratowych jako dane statystyczne"
   ]
  },
  {
   "cell_type": "code",
   "execution_count": 12,
   "id": "b57edbf0",
   "metadata": {},
   "outputs": [],
   "source": [
    "cities_MSE_df = pd.DataFrame(cities_MSE)\n",
    "cities_MSE_df.to_json(\"../statistics/\" + \"cities_MSE_test_simple_model.jsonl\", orient = \"records\", lines = True)"
   ]
  },
  {
   "cell_type": "code",
   "execution_count": 13,
   "id": "7d92191b",
   "metadata": {},
   "outputs": [],
   "source": [
    "MSE_df = pd.DataFrame([{\"MSE\":MSE}])\n",
    "MSE_df.to_json(\"../statistics/\" + \"MSE_test_simple_model.jsonl\", orient = \"records\", lines = True)"
   ]
  }
 ],
 "metadata": {
  "kernelspec": {
   "display_name": "Python 3 (ipykernel)",
   "language": "python",
   "name": "python3"
  },
  "language_info": {
   "codemirror_mode": {
    "name": "ipython",
    "version": 3
   },
   "file_extension": ".py",
   "mimetype": "text/x-python",
   "name": "python",
   "nbconvert_exporter": "python",
   "pygments_lexer": "ipython3",
   "version": "3.10.1"
  }
 },
 "nbformat": 4,
 "nbformat_minor": 5
}
