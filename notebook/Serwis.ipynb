{
 "cells": [
  {
   "cell_type": "markdown",
   "metadata": {},
   "source": [
    "# Serwis \n"
   ]
  },
  {
   "cell_type": "markdown",
   "metadata": {},
   "source": [
    "W ramach etapu 2 została stworzona aplikacja w formie mikroserwisu - serwer RESTowy zbudowany za pomocą technologii Flask. Aplikacja umożliia predykcję przy pomocy danego modelu oraz pozwala na realizację eksperymentu A/B\n",
    "\n",
    "Przewidywanie terminu dostawy dokonujemy przez requesty HTTP z argumentem **data** zawierającym informację: *miasto, firma kurierska, czas zakupu* oraz *wybrany model*.\n",
    "Serwer posiada endpoint */delivery* który służy do predykcji terminu dostawy.\n",
    "Wysyłając zapytanie HTTP GET /delivery wraz z potrzebnymi danymi **data**, serwis dokonuje predykcji na podstawie dostarczonych danych oraz zwraca informację na temat terminu dostarczenia zamówienia z dokładnością co do dnia oraz godziny."
   ]
  },
  {
   "cell_type": "markdown",
   "metadata": {},
   "source": [
    "### Uruchomienie serwisu\n",
    "*python main.py*\n",
    "\n",
    "### Przykład zapytania\n",
    "*http://127.0.0.1:5000/delivery?data={%22city%22:%20%22Warszawa%22,%20%22delivery_company%22:%20620,%20%22purchase_timestamp%22:%20%222021-08-01T04:06:48%22,%20%22model%22:%201}*\n",
    "\n",
    "dla **data** = '{\"city\": \"Warszawa\", \"delivery_company\": 620, \"purchase_timestamp\": \"2021-08-01T04:06:48\", \"model\": 1}'\n",
    "\n",
    "### Wyjście\n",
    "\"Aug-03-2021 18:00\"\n",
    "\n",
    "### Wprowadzenie własnych danych\n",
    "Przechodząc na stronę *http://127.0.0.1:5000/* aplikacja również umożliwia na wprowadzenie danych ręcznie za pomocą formularza. Następnie zostaje wysłane zapytanie na endpoint */delivery* który przewiduje termin dostawy na podstawie wprowadzonych danych."
   ]
  },
  {
   "cell_type": "markdown",
   "metadata": {},
   "source": [
    "### Logi\n",
    "\n",
    "Po każdym zapytaniu HTTP GET na endpoint */delivery* zostają zapisane logi z danego zapytania do pliku *prediction.jsonl*. Dane przesyłane do pliku *prediction.jsonl* zawierają informację: \n",
    "- date: data zapytania\n",
    "- model: model wykorzystany do predykcji (*simple_model* lub *random_forest_model*)\n",
    "- purchase_timestamp: termin zakupu\n",
    "- city: miasto\n",
    "- delivery_company: firma kurierska\n",
    "- prediction: przewidziany termin dostawy na podstawie wybranego modelu\n",
    "\n",
    "Zapisanie informacji w pliku *prediction.jsonl* pozwala na późniejszą realizację eksperymentu A/B."
   ]
  },
  {
   "cell_type": "markdown",
   "metadata": {},
   "source": [
    "### Przykład zapytania oraz zapisu danych do pliku  prediction.jsonl\n",
    "Wysyłamy 3 zapytania:\n",
    "\n",
    "http://127.0.0.1:5000/delivery?data={%22city%22:%20%22Warszawa%22,%20%22delivery_company%22:%20620,%20%22purchase_timestamp%22:%20%222021-08-01T04:06:48%22,%20%22model%22:%201}\n",
    "\n",
    "data = {\"city\": \"Warszawa\", \"delivery_company\": 620, \"purchase_timestamp\": \"2021-08-01T04:06:48\", \"model\": 1}\n",
    "\n",
    "http://127.0.0.1:5000/delivery?data={%22city%22:%20%22Pozna%C5%84%22,%20%22delivery_company%22:%20516,%20%22purchase_timestamp%22:%20%222021-03-04T01:54:25%22,%20%22model%22:%200}\n",
    "\n",
    "data = {\"city\": \"Poznań\", \"delivery_company\": 516, \"purchase_timestamp\": \"2021-03-04T01:54:25\", \"model\": 0}\n",
    "\n",
    "http://127.0.0.1:5000/delivery?data={%22city%22:%20%22Lublin%22,%20%22delivery_company%22:%20620,%20%22purchase_timestamp%22:%20%222021-08-08T20:10:49%22,%20%22model%22:%201}\n",
    "\n",
    "data = {\"city\": \"Lublin\", \"delivery_company\": 620, \"purchase_timestamp\": \"2021-08-08T20:10:49\", \"model\": 1}\n",
    "\n",
    "### Zawartość pliku prediction.jsonl\n",
    "{\"date\": \"Jan-12-2022 19:37:20\", \"model\": \"random_forest_model\", \"purchase_timestamp\": \"2021-08-01T04:06:48\", \"city\": \"Warszawa\", \"delivery_company\": 620, \"prediction\": \"Aug-03-2021 18:00\"}\n",
    "\n",
    "{\"date\": \"Jan-12-2022 19:37:44\", \"model\": \"simple_model\", \"purchase_timestamp\": \"2021-03-04T01:54:25\", \"city\": \"Pozna\\u0144\", \"delivery_company\": 516, \"prediction\": \"Mar-05-2021 11:00\"}\n",
    "\n",
    "{\"date\": \"Jan-12-2022 19:37:57\", \"model\": \"random_forest_model\", \"purchase_timestamp\": \"2021-08-08T20:10:49\", \"city\": \"Lublin\", \"delivery_company\": 620, \"prediction\": \"Aug-10-2021 11:00\"}"
   ]
  }
 ],
 "metadata": {
  "kernelspec": {
   "display_name": "Python 3 (ipykernel)",
   "language": "python",
   "name": "python3"
  },
  "language_info": {
   "codemirror_mode": {
    "name": "ipython",
    "version": 3
   },
   "file_extension": ".py",
   "mimetype": "text/x-python",
   "name": "python",
   "nbconvert_exporter": "python",
   "pygments_lexer": "ipython3",
   "version": "3.7.0"
  }
 },
 "nbformat": 4,
 "nbformat_minor": 4
}
