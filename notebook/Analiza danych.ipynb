{
 "cells": [
  {
   "cell_type": "markdown",
   "id": "2bcdeb55",
   "metadata": {},
   "source": [
    "# [IUM] Predykcja czasu dostawy"
   ]
  },
  {
   "cell_type": "markdown",
   "id": "38b78dfd",
   "metadata": {},
   "source": [
    "## Autorzy\n",
    "* Adamski Maciej\n",
    "* Olga Krupa"
   ]
  },
  {
   "cell_type": "markdown",
   "id": "bad920a7",
   "metadata": {},
   "source": [
    "## Zadanie\n"
   ]
  },
  {
   "cell_type": "markdown",
   "id": "5de6281a",
   "metadata": {},
   "source": [
    "### Treść\n",
    "Wygląda na to, że nasze firmy kurierskie czasami nie radzą sobie z dostawami. Gdybysmy wiedzieli, ile taka dostawa dla danego zamówienia potrwa - moglibyśmy przekazać tę informację klientom."
   ]
  },
  {
   "cell_type": "markdown",
   "id": "3f8b33cd",
   "metadata": {},
   "source": [
    "### Problem biznesowy\n",
    "Predykcja czas dostawy zamówień - chcielibyśmy informować klientów ile będą czekać na dostarczenie przesyłki."
   ]
  },
  {
   "cell_type": "markdown",
   "id": "99282b13",
   "metadata": {},
   "source": [
    "### Biznesowe kryterium sukcesu\n"
   ]
  },
  {
   "cell_type": "markdown",
   "id": "aeea1585",
   "metadata": {},
   "source": [
    "### Typ zadania modelowania\n",
    "Regresja/aproksymacja - przewidywanie parametrów"
   ]
  },
  {
   "cell_type": "markdown",
   "id": "133f589a",
   "metadata": {},
   "source": [
    "# Wstępna analiza"
   ]
  },
  {
   "cell_type": "code",
   "execution_count": 1,
   "id": "433ed457",
   "metadata": {},
   "outputs": [],
   "source": [
    "import pandas as pd\n",
    "import numpy as np\n",
    "import matplotlib.pyplot as plt\n",
    "import statistics\n",
    "from scipy.stats import norm"
   ]
  },
  {
   "cell_type": "code",
   "execution_count": 2,
   "id": "0d01353b",
   "metadata": {},
   "outputs": [],
   "source": [
    "def loadData(file_name):\n",
    "    return pd.read_json(\"../data/raw/\" + file_name, lines = True)"
   ]
  },
  {
   "cell_type": "markdown",
   "id": "81d15da3",
   "metadata": {},
   "source": [
    "## Tabela *deliveries*"
   ]
  },
  {
   "cell_type": "code",
   "execution_count": 3,
   "id": "ebb50f47",
   "metadata": {},
   "outputs": [],
   "source": [
    "deliveries = loadData(\"deliveries.jsonl\")"
   ]
  },
  {
   "cell_type": "code",
   "execution_count": 4,
   "id": "1bcb51c9",
   "metadata": {
    "scrolled": true
   },
   "outputs": [
    {
     "data": {
      "text/plain": [
       "purchase_id           7383\n",
       "purchase_timestamp    7383\n",
       "delivery_timestamp    7383\n",
       "delivery_company      7383\n",
       "dtype: int64"
      ]
     },
     "execution_count": 4,
     "metadata": {},
     "output_type": "execute_result"
    }
   ],
   "source": [
    "deliveries.count()"
   ]
  },
  {
   "cell_type": "markdown",
   "id": "9013ea12",
   "metadata": {},
   "source": [
    "Wszystkie kolumeny zawierają taką samą ilość różnych od *null* wartości. Wynika z tego, że nie brakuje w tej tabeli danych. Dodatkowo można stwierdzić, że wszystkie zamówienia zostały już dostarczone."
   ]
  },
  {
   "cell_type": "code",
   "execution_count": 5,
   "id": "18d2f33e",
   "metadata": {},
   "outputs": [
    {
     "data": {
      "text/plain": [
       "True"
      ]
     },
     "execution_count": 5,
     "metadata": {},
     "output_type": "execute_result"
    }
   ],
   "source": [
    "deliveries[\"purchase_id\"].is_unique"
   ]
  },
  {
   "cell_type": "markdown",
   "id": "d454219c",
   "metadata": {},
   "source": [
    "### Kolumna *purchase_timestamp*"
   ]
  },
  {
   "cell_type": "code",
   "execution_count": 6,
   "id": "342869a4",
   "metadata": {},
   "outputs": [
    {
     "data": {
      "text/plain": [
       "dtype('O')"
      ]
     },
     "execution_count": 6,
     "metadata": {},
     "output_type": "execute_result"
    }
   ],
   "source": [
    "deliveries[\"purchase_timestamp\"].dtype"
   ]
  },
  {
   "cell_type": "markdown",
   "id": "c8c49fcb",
   "metadata": {},
   "source": [
    "Ze wzgledu, że data jest jako obiekt string to musimy ją przekonwertować na typ datetime."
   ]
  },
  {
   "cell_type": "code",
   "execution_count": 7,
   "id": "9b09577b",
   "metadata": {},
   "outputs": [],
   "source": [
    "deliveries[\"purchase_timestamp\"] = pd.to_datetime(deliveries[\"purchase_timestamp\"])"
   ]
  },
  {
   "cell_type": "code",
   "execution_count": 8,
   "id": "285089c4",
   "metadata": {},
   "outputs": [],
   "source": [
    "col = deliveries[\"purchase_timestamp\"]"
   ]
  },
  {
   "cell_type": "code",
   "execution_count": 9,
   "id": "f57379a1",
   "metadata": {
    "scrolled": false
   },
   "outputs": [
    {
     "data": {
      "text/plain": [
       "{'min': Timestamp('2021-01-01 01:29:12'),\n",
       " 'max': Timestamp('2021-10-27 15:26:48')}"
      ]
     },
     "execution_count": 9,
     "metadata": {},
     "output_type": "execute_result"
    }
   ],
   "source": [
    "{\"min\": col.min(), \"max\": col.max()}"
   ]
  },
  {
   "cell_type": "markdown",
   "id": "7cdc8380",
   "metadata": {},
   "source": [
    "Zamówienia były składane między *2021-01-01*, a *2021-10-27*."
   ]
  },
  {
   "cell_type": "code",
   "execution_count": 10,
   "id": "082de542",
   "metadata": {},
   "outputs": [
    {
     "data": {
      "text/plain": [
       "<AxesSubplot:>"
      ]
     },
     "execution_count": 10,
     "metadata": {},
     "output_type": "execute_result"
    },
    {
     "data": {
      "image/png": "[encoded data removed]",
      "text/plain": [
       "<Figure size 432x288 with 1 Axes>"
      ]
     },
     "metadata": {
      "needs_background": "light"
     },
     "output_type": "display_data"
    }
   ],
   "source": [
    "col.dt.month.hist()"
   ]
  },
  {
   "cell_type": "markdown",
   "id": "4ec0dc96",
   "metadata": {},
   "source": [
    "Rozkład daty składania zamówień podzielonych na miesiące jest w przybliżeniu jednostajny"
   ]
  },
  {
   "cell_type": "markdown",
   "id": "eefaeca9",
   "metadata": {},
   "source": [
    "#### Kolumna *delivery_timestamp*"
   ]
  },
  {
   "cell_type": "code",
   "execution_count": 11,
   "id": "2ec8c26e",
   "metadata": {},
   "outputs": [
    {
     "data": {
      "text/plain": [
       "dtype('O')"
      ]
     },
     "execution_count": 11,
     "metadata": {},
     "output_type": "execute_result"
    }
   ],
   "source": [
    "deliveries[\"delivery_timestamp\"].dtype"
   ]
  },
  {
   "cell_type": "code",
   "execution_count": 12,
   "id": "0ce59178",
   "metadata": {},
   "outputs": [],
   "source": [
    "deliveries[\"delivery_timestamp\"] = pd.to_datetime(deliveries[\"delivery_timestamp\"])\n",
    "col = deliveries[\"delivery_timestamp\"]"
   ]
  },
  {
   "cell_type": "code",
   "execution_count": 13,
   "id": "50d63432",
   "metadata": {},
   "outputs": [
    {
     "data": {
      "text/plain": [
       "{'min': Timestamp('2021-01-02 08:09:35.963013'),\n",
       " 'max': Timestamp('2021-10-30 08:44:37.680748')}"
      ]
     },
     "execution_count": 13,
     "metadata": {},
     "output_type": "execute_result"
    }
   ],
   "source": [
    "{\"min\": col.min(), \"max\": col.max()}"
   ]
  },
  {
   "cell_type": "markdown",
   "id": "affeb5e1",
   "metadata": {},
   "source": [
    "Zamówienia były dostarczone między *2021-01-02*, a *2021-10-30*."
   ]
  },
  {
   "cell_type": "code",
   "execution_count": 14,
   "id": "055ed589",
   "metadata": {},
   "outputs": [
    {
     "data": {
      "text/plain": [
       "<AxesSubplot:>"
      ]
     },
     "execution_count": 14,
     "metadata": {},
     "output_type": "execute_result"
    },
    {
     "data": {
      "image/png": "[encoded data removed]",
      "text/plain": [
       "<Figure size 432x288 with 1 Axes>"
      ]
     },
     "metadata": {
      "needs_background": "light"
     },
     "output_type": "display_data"
    }
   ],
   "source": [
    "col.dt.month.hist()"
   ]
  },
  {
   "cell_type": "markdown",
   "id": "552d4521",
   "metadata": {},
   "source": [
    "Rozkład daty dostarczenia zamówień podzielonych na miesiące jest w przybliżeniu jednostajny"
   ]
  },
  {
   "cell_type": "markdown",
   "id": "130b99e5",
   "metadata": {},
   "source": [
    "#### Kolumna *delivery_company*"
   ]
  },
  {
   "cell_type": "code",
   "execution_count": 15,
   "id": "42c9b37c",
   "metadata": {},
   "outputs": [
    {
     "data": {
      "text/plain": [
       "dtype('int64')"
      ]
     },
     "execution_count": 15,
     "metadata": {},
     "output_type": "execute_result"
    }
   ],
   "source": [
    "deliveries[\"delivery_company\"].dtype"
   ]
  },
  {
   "cell_type": "code",
   "execution_count": 16,
   "id": "e40bf1fc",
   "metadata": {
    "scrolled": true
   },
   "outputs": [],
   "source": [
    "col = deliveries[\"delivery_company\"]"
   ]
  },
  {
   "cell_type": "code",
   "execution_count": 17,
   "id": "8243d7e8",
   "metadata": {},
   "outputs": [
    {
     "data": {
      "text/plain": [
       "[620, 360, 516]"
      ]
     },
     "execution_count": 17,
     "metadata": {},
     "output_type": "execute_result"
    }
   ],
   "source": [
    "col.unique().tolist()"
   ]
  },
  {
   "cell_type": "markdown",
   "id": "91eb52f4",
   "metadata": {},
   "source": [
    "Zamowienia dostarczone są przez trzech dostawców"
   ]
  },
  {
   "cell_type": "code",
   "execution_count": 18,
   "id": "a56dab02",
   "metadata": {},
   "outputs": [
    {
     "data": {
      "text/plain": [
       "<AxesSubplot:>"
      ]
     },
     "execution_count": 18,
     "metadata": {},
     "output_type": "execute_result"
    },
    {
     "data": {
      "image/png": "[encoded data removed]",
      "text/plain": [
       "<Figure size 432x288 with 1 Axes>"
      ]
     },
     "metadata": {
      "needs_background": "light"
     },
     "output_type": "display_data"
    }
   ],
   "source": [
    "col.hist()"
   ]
  },
  {
   "cell_type": "markdown",
   "id": "43a801e4",
   "metadata": {},
   "source": [
    "Wykorzystanie dostawców ma rozkład jednostajny"
   ]
  },
  {
   "cell_type": "markdown",
   "id": "eb54db27",
   "metadata": {},
   "source": [
    "### Czy istnieją wpisy z datą dostawy wcześniejsza niż czas zamówienia?"
   ]
  },
  {
   "cell_type": "code",
   "execution_count": 19,
   "id": "c0f39a75",
   "metadata": {},
   "outputs": [
    {
     "data": {
      "text/plain": [
       "0"
      ]
     },
     "execution_count": 19,
     "metadata": {},
     "output_type": "execute_result"
    }
   ],
   "source": [
    "np.where((deliveries[\"delivery_timestamp\"] < deliveries[\"purchase_timestamp\"]))[0].size"
   ]
  },
  {
   "cell_type": "markdown",
   "id": "9e7cc847",
   "metadata": {},
   "source": [
    "Nie występują takie wpisy."
   ]
  },
  {
   "cell_type": "markdown",
   "id": "12a668ed",
   "metadata": {},
   "source": [
    "### Czas dostawy"
   ]
  },
  {
   "cell_type": "code",
   "execution_count": 20,
   "id": "78d598b1",
   "metadata": {},
   "outputs": [],
   "source": [
    "deliveries[\"time\"] = (deliveries[\"delivery_timestamp\"] - deliveries[\"purchase_timestamp\"]) / np.timedelta64(1,'h')"
   ]
  },
  {
   "cell_type": "code",
   "execution_count": 21,
   "id": "0d44a961",
   "metadata": {},
   "outputs": [
    {
     "data": {
      "text/plain": [
       "0       54.442714\n",
       "1       65.429676\n",
       "2       58.517116\n",
       "3       55.222574\n",
       "4       56.719851\n",
       "          ...    \n",
       "7378    77.138135\n",
       "7379    44.158122\n",
       "7380    43.149846\n",
       "7381    18.115892\n",
       "7382    53.779790\n",
       "Name: time, Length: 7383, dtype: float64"
      ]
     },
     "execution_count": 21,
     "metadata": {},
     "output_type": "execute_result"
    }
   ],
   "source": [
    "col = deliveries[\"time\"]\n",
    "col"
   ]
  },
  {
   "cell_type": "code",
   "execution_count": 22,
   "id": "2aaf32b4",
   "metadata": {},
   "outputs": [
    {
     "data": {
      "text/plain": [
       "count    7383.000000\n",
       "mean       48.001029\n",
       "std        19.870723\n",
       "min         4.026916\n",
       "25%        33.310697\n",
       "50%        47.209810\n",
       "75%        61.720920\n",
       "max       123.546516\n",
       "Name: time, dtype: float64"
      ]
     },
     "execution_count": 22,
     "metadata": {},
     "output_type": "execute_result"
    }
   ],
   "source": [
    "col.describe()"
   ]
  },
  {
   "cell_type": "markdown",
   "id": "817a7e79",
   "metadata": {},
   "source": [
    "Czas dostawy poszczególnych zamówień wydaje się prawidłowy - nie ma zarówno zbyt krótkich jak i zbyt długich."
   ]
  },
  {
   "cell_type": "code",
   "execution_count": 23,
   "id": "2dffbc02",
   "metadata": {},
   "outputs": [],
   "source": [
    "time_mean = col.mean()\n",
    "time_std = col.std()"
   ]
  },
  {
   "cell_type": "code",
   "execution_count": 24,
   "id": "bc1db8f8",
   "metadata": {},
   "outputs": [
    {
     "data": {
      "image/png": "[encoded data removed]",
      "text/plain": [
       "<Figure size 432x288 with 1 Axes>"
      ]
     },
     "metadata": {
      "needs_background": "light"
     },
     "output_type": "display_data"
    }
   ],
   "source": [
    "plt.hist(col, bins = 20, facecolor = \"blue\", alpha = 0.3)\n",
    "plt.grid()\n",
    "plt.axvline(x = time_mean, color='r')\n",
    "plt.axvline(x = time_mean - time_std, color = 'g')\n",
    "plt.axvline(x = time_mean + time_std, color = 'g')\n",
    "plt.show()"
   ]
  },
  {
   "cell_type": "markdown",
   "id": "c6429f1c",
   "metadata": {},
   "source": [
    "Czas dostawy prawdopodobnie jest rozkładem normalnym $\\sim N(\\mu = 48.0, \\sigma = 19.8)$"
   ]
  },
  {
   "cell_type": "markdown",
   "id": "ad0df471",
   "metadata": {},
   "source": [
    "## Tabela users"
   ]
  },
  {
   "cell_type": "code",
   "execution_count": 25,
   "id": "c4995431",
   "metadata": {},
   "outputs": [],
   "source": [
    "users = loadData(\"users.jsonl\")"
   ]
  },
  {
   "cell_type": "code",
   "execution_count": 26,
   "id": "5015f5ac",
   "metadata": {},
   "outputs": [
    {
     "data": {
      "text/plain": [
       "user_id    200\n",
       "name       200\n",
       "city       200\n",
       "street     200\n",
       "dtype: int64"
      ]
     },
     "execution_count": 26,
     "metadata": {},
     "output_type": "execute_result"
    }
   ],
   "source": [
    "users.count()"
   ]
  },
  {
   "cell_type": "markdown",
   "id": "cddee255",
   "metadata": {},
   "source": [
    "Nie ma żadnych pól o wartości *null*."
   ]
  },
  {
   "cell_type": "code",
   "execution_count": 27,
   "id": "187cdf44",
   "metadata": {},
   "outputs": [
    {
     "data": {
      "text/plain": [
       "True"
      ]
     },
     "execution_count": 27,
     "metadata": {},
     "output_type": "execute_result"
    }
   ],
   "source": [
    "users[\"user_id\"].is_unique"
   ]
  },
  {
   "cell_type": "markdown",
   "id": "adbdb125",
   "metadata": {},
   "source": [
    "### Kolumna *name*"
   ]
  },
  {
   "cell_type": "code",
   "execution_count": 28,
   "id": "7111aa41",
   "metadata": {},
   "outputs": [
    {
     "data": {
      "text/plain": [
       "{2}"
      ]
     },
     "execution_count": 28,
     "metadata": {},
     "output_type": "execute_result"
    }
   ],
   "source": [
    "nameLen = set()\n",
    "for row in users[\"name\"]:\n",
    "    nameLen.add(len(row.split(\" \")))\n",
    "\n",
    "nameLen"
   ]
  },
  {
   "cell_type": "markdown",
   "id": "7765db0b",
   "metadata": {},
   "source": [
    "Nie występują klienci o dwóch imionach lub nazwiskach. Zawsze jest to para pierwsze imie i naziwsko."
   ]
  },
  {
   "cell_type": "markdown",
   "id": "25502bd9",
   "metadata": {},
   "source": [
    "### Kolumna *street*"
   ]
  },
  {
   "cell_type": "code",
   "execution_count": 29,
   "id": "2cdcce65",
   "metadata": {},
   "outputs": [
    {
     "data": {
      "text/plain": [
       "{3, 4, 5}"
      ]
     },
     "execution_count": 29,
     "metadata": {},
     "output_type": "execute_result"
    }
   ],
   "source": [
    "streetLen = set()\n",
    "for row in users[\"street\"]:\n",
    "    streetLen.add(len(row.split(\" \")))\n",
    "\n",
    "streetLen"
   ]
  },
  {
   "cell_type": "markdown",
   "id": "64607c6b",
   "metadata": {},
   "source": [
    "Pole adres składa się z 3, 4 lub 5 słów. Z 1 na przedrostek, 1/2/3 na główny człon oraz 1 na numer."
   ]
  },
  {
   "cell_type": "markdown",
   "id": "087ef165",
   "metadata": {},
   "source": [
    "### Kolumna *city*"
   ]
  },
  {
   "cell_type": "code",
   "execution_count": 30,
   "id": "ebf8d819",
   "metadata": {},
   "outputs": [],
   "source": [
    "col = users[\"city\"]"
   ]
  },
  {
   "cell_type": "code",
   "execution_count": 31,
   "id": "646e2c38",
   "metadata": {},
   "outputs": [
    {
     "data": {
      "text/plain": [
       "dtype('O')"
      ]
     },
     "execution_count": 31,
     "metadata": {},
     "output_type": "execute_result"
    }
   ],
   "source": [
    "col.dtype"
   ]
  },
  {
   "cell_type": "code",
   "execution_count": 32,
   "id": "0012b084",
   "metadata": {},
   "outputs": [
    {
     "data": {
      "text/plain": [
       "['Kraków', 'Gdynia', 'Poznań', 'Szczecin', 'Radom', 'Warszawa', 'Wrocław']"
      ]
     },
     "execution_count": 32,
     "metadata": {},
     "output_type": "execute_result"
    }
   ],
   "source": [
    "col.unique().tolist()"
   ]
  },
  {
   "cell_type": "markdown",
   "id": "03cda322",
   "metadata": {},
   "source": [
    "Przesyłki dostarczane są do 7 różnych miast."
   ]
  },
  {
   "cell_type": "code",
   "execution_count": 33,
   "id": "2ac0a9ad",
   "metadata": {},
   "outputs": [
    {
     "data": {
      "text/plain": [
       "<AxesSubplot:>"
      ]
     },
     "execution_count": 33,
     "metadata": {},
     "output_type": "execute_result"
    },
    {
     "data": {
      "image/png": "[encoded data removed]",
      "text/plain": [
       "<Figure size 432x288 with 1 Axes>"
      ]
     },
     "metadata": {
      "needs_background": "light"
     },
     "output_type": "display_data"
    }
   ],
   "source": [
    "col.hist()"
   ]
  },
  {
   "cell_type": "markdown",
   "id": "4ed292df",
   "metadata": {},
   "source": [
    "## Tabela *sessions*"
   ]
  },
  {
   "cell_type": "code",
   "execution_count": 34,
   "id": "163900af",
   "metadata": {},
   "outputs": [],
   "source": [
    "sessions = loadData(\"sessions.jsonl\")"
   ]
  },
  {
   "cell_type": "code",
   "execution_count": 35,
   "id": "bdf98fa8",
   "metadata": {},
   "outputs": [
    {
     "data": {
      "text/plain": [
       "session_id          40068\n",
       "timestamp           40068\n",
       "user_id             40068\n",
       "product_id          40068\n",
       "event_type          40068\n",
       "offered_discount    40068\n",
       "purchase_id          7383\n",
       "dtype: int64"
      ]
     },
     "execution_count": 35,
     "metadata": {},
     "output_type": "execute_result"
    }
   ],
   "source": [
    "sessions.count()"
   ]
  },
  {
   "cell_type": "markdown",
   "id": "482bba35",
   "metadata": {},
   "source": [
    "We żadnej kolumnie poza *purchase_id* nie wystepują wartości puste. *Null* w kolumnie z id zamówienia oznacza, że podczas danej sesji klient nie złożył zamówienia. Z tego powodu nie jest to traktowane jako brak danych."
   ]
  },
  {
   "cell_type": "code",
   "execution_count": 36,
   "id": "9f08feda",
   "metadata": {},
   "outputs": [
    {
     "data": {
      "text/plain": [
       "False"
      ]
     },
     "execution_count": 36,
     "metadata": {},
     "output_type": "execute_result"
    }
   ],
   "source": [
    "sessions[\"session_id\"].is_unique"
   ]
  },
  {
   "cell_type": "markdown",
   "id": "5ea8d164",
   "metadata": {},
   "source": [
    "Brak unikalności w ID sesji wynika z faktu, że są to prawdopodobnie sesje przeglądarki i w ciągu jednej sesji użytkownik mógł oglądać i kupować różne przedmioty."
   ]
  },
  {
   "cell_type": "markdown",
   "id": "91619083",
   "metadata": {},
   "source": [
    "### Kolumna *timestamp*"
   ]
  },
  {
   "cell_type": "code",
   "execution_count": 37,
   "id": "170f90c8",
   "metadata": {},
   "outputs": [
    {
     "data": {
      "text/plain": [
       "dtype('<M8[ns]')"
      ]
     },
     "execution_count": 37,
     "metadata": {},
     "output_type": "execute_result"
    }
   ],
   "source": [
    "sessions[\"timestamp\"].dtype"
   ]
  },
  {
   "cell_type": "code",
   "execution_count": 38,
   "id": "c84d3910",
   "metadata": {},
   "outputs": [],
   "source": [
    "col = sessions[\"timestamp\"]"
   ]
  },
  {
   "cell_type": "code",
   "execution_count": 39,
   "id": "b4076b3e",
   "metadata": {},
   "outputs": [
    {
     "data": {
      "text/plain": [
       "{'min': Timestamp('2021-01-01 00:45:25'),\n",
       " 'max': Timestamp('2021-10-27 15:26:48')}"
      ]
     },
     "execution_count": 39,
     "metadata": {},
     "output_type": "execute_result"
    }
   ],
   "source": [
    "{\"min\": col.min(), \"max\": col.max()}"
   ]
  },
  {
   "cell_type": "markdown",
   "id": "45f3e5b1",
   "metadata": {},
   "source": [
    "Sesje występowały między *2021-01-01*, a *2021-10-27*."
   ]
  },
  {
   "cell_type": "code",
   "execution_count": 40,
   "id": "91c5de3a",
   "metadata": {
    "scrolled": true
   },
   "outputs": [
    {
     "data": {
      "text/plain": [
       "<AxesSubplot:>"
      ]
     },
     "execution_count": 40,
     "metadata": {},
     "output_type": "execute_result"
    },
    {
     "data": {
      "image/png": "[encoded data removed]",
      "text/plain": [
       "<Figure size 432x288 with 1 Axes>"
      ]
     },
     "metadata": {
      "needs_background": "light"
     },
     "output_type": "display_data"
    }
   ],
   "source": [
    "col.dt.month.hist()"
   ]
  },
  {
   "cell_type": "markdown",
   "id": "8470d4a6",
   "metadata": {},
   "source": [
    "Rozkład daty sesji podzielonych na miesiące jest w przybliżeniu jednostajny"
   ]
  },
  {
   "cell_type": "markdown",
   "id": "c1f80fa2",
   "metadata": {},
   "source": [
    "### Kolumna *event_type*"
   ]
  },
  {
   "cell_type": "code",
   "execution_count": 41,
   "id": "2ff4e825",
   "metadata": {},
   "outputs": [],
   "source": [
    "col = sessions[\"event_type\"]"
   ]
  },
  {
   "cell_type": "code",
   "execution_count": 42,
   "id": "7fbeeb3e",
   "metadata": {},
   "outputs": [
    {
     "data": {
      "text/plain": [
       "['VIEW_PRODUCT', 'BUY_PRODUCT']"
      ]
     },
     "execution_count": 42,
     "metadata": {},
     "output_type": "execute_result"
    }
   ],
   "source": [
    "col.unique().tolist()"
   ]
  },
  {
   "cell_type": "code",
   "execution_count": 43,
   "id": "16ee98d6",
   "metadata": {},
   "outputs": [
    {
     "data": {
      "text/plain": [
       "<AxesSubplot:>"
      ]
     },
     "execution_count": 43,
     "metadata": {},
     "output_type": "execute_result"
    },
    {
     "data": {
      "image/png": "[encoded data removed]",
      "text/plain": [
       "<Figure size 432x288 with 1 Axes>"
      ]
     },
     "metadata": {
      "needs_background": "light"
     },
     "output_type": "display_data"
    }
   ],
   "source": [
    "col.hist()"
   ]
  },
  {
   "cell_type": "code",
   "execution_count": 44,
   "id": "8159bbb8",
   "metadata": {},
   "outputs": [
    {
     "data": {
      "text/plain": [
       "event_type\n",
       "BUY_PRODUCT      7383\n",
       "VIEW_PRODUCT    32685\n",
       "Name: session_id, dtype: int64"
      ]
     },
     "execution_count": 44,
     "metadata": {},
     "output_type": "execute_result"
    }
   ],
   "source": [
    "sessions.groupby('event_type').count()[\"session_id\"]"
   ]
  },
  {
   "cell_type": "markdown",
   "id": "cc005807",
   "metadata": {},
   "source": [
    "### Kolumna *offered_discount*"
   ]
  },
  {
   "cell_type": "code",
   "execution_count": 45,
   "id": "7525cc86",
   "metadata": {},
   "outputs": [],
   "source": [
    "col = sessions[\"offered_discount\"]"
   ]
  },
  {
   "cell_type": "code",
   "execution_count": 46,
   "id": "30f4ad3d",
   "metadata": {},
   "outputs": [
    {
     "data": {
      "text/plain": [
       "[0, 10, 5, 20, 15]"
      ]
     },
     "execution_count": 46,
     "metadata": {},
     "output_type": "execute_result"
    }
   ],
   "source": [
    "col.unique().tolist()"
   ]
  },
  {
   "cell_type": "code",
   "execution_count": 47,
   "id": "a6fde709",
   "metadata": {},
   "outputs": [
    {
     "data": {
      "text/plain": [
       "<AxesSubplot:>"
      ]
     },
     "execution_count": 47,
     "metadata": {},
     "output_type": "execute_result"
    },
    {
     "data": {
      "image/png": "[encoded data removed]",
      "text/plain": [
       "<Figure size 432x288 with 1 Axes>"
      ]
     },
     "metadata": {
      "needs_background": "light"
     },
     "output_type": "display_data"
    }
   ],
   "source": [
    "col.hist()"
   ]
  },
  {
   "cell_type": "markdown",
   "id": "44a98787",
   "metadata": {},
   "source": [
    "# Tabla *products*"
   ]
  },
  {
   "cell_type": "code",
   "execution_count": 48,
   "id": "48739a85",
   "metadata": {},
   "outputs": [],
   "source": [
    "products = loadData(\"products.jsonl\")"
   ]
  },
  {
   "cell_type": "code",
   "execution_count": 49,
   "id": "013b5a6f",
   "metadata": {
    "scrolled": true
   },
   "outputs": [
    {
     "data": {
      "text/plain": [
       "product_id       319\n",
       "product_name     319\n",
       "category_path    319\n",
       "price            319\n",
       "dtype: int64"
      ]
     },
     "execution_count": 49,
     "metadata": {},
     "output_type": "execute_result"
    }
   ],
   "source": [
    "products.count()"
   ]
  },
  {
   "cell_type": "code",
   "execution_count": 50,
   "id": "58efd49b",
   "metadata": {},
   "outputs": [
    {
     "data": {
      "text/plain": [
       "True"
      ]
     },
     "execution_count": 50,
     "metadata": {},
     "output_type": "execute_result"
    }
   ],
   "source": [
    "products[\"product_id\"].is_unique"
   ]
  },
  {
   "cell_type": "code",
   "execution_count": 51,
   "id": "a4de3657",
   "metadata": {},
   "outputs": [
    {
     "data": {
      "text/plain": [
       "True"
      ]
     },
     "execution_count": 51,
     "metadata": {},
     "output_type": "execute_result"
    }
   ],
   "source": [
    "products[\"product_name\"].is_unique"
   ]
  },
  {
   "cell_type": "markdown",
   "id": "d6f5aa28",
   "metadata": {},
   "source": [
    "### Kolumna *product_name*"
   ]
  },
  {
   "cell_type": "code",
   "execution_count": 52,
   "id": "71545e52",
   "metadata": {},
   "outputs": [
    {
     "data": {
      "text/plain": [
       "319"
      ]
     },
     "execution_count": 52,
     "metadata": {},
     "output_type": "execute_result"
    }
   ],
   "source": [
    "products[\"product_name\"].unique().size"
   ]
  },
  {
   "cell_type": "markdown",
   "id": "cb2d3fde",
   "metadata": {},
   "source": [
    "Nazwy przedmiotów nie powtarzają się"
   ]
  },
  {
   "cell_type": "markdown",
   "id": "4e172219",
   "metadata": {},
   "source": [
    "### Kolumna *category_path*"
   ]
  },
  {
   "cell_type": "code",
   "execution_count": 53,
   "id": "11b0565d",
   "metadata": {},
   "outputs": [],
   "source": [
    "categories = set()\n",
    "for row in products[\"category_path\"]:\n",
    "    categories.update(row.split(';'))"
   ]
  },
  {
   "cell_type": "code",
   "execution_count": 54,
   "id": "3408fbca",
   "metadata": {
    "scrolled": false
   },
   "outputs": [
    {
     "data": {
      "text/plain": [
       "{'Akcesoria telefoniczne',\n",
       " 'Anteny RTV',\n",
       " 'Audio',\n",
       " 'Biurowe urządzenia wielofunkcyjne',\n",
       " 'Drukarki i skanery',\n",
       " 'Gry PlayStation3',\n",
       " 'Gry Xbox 360',\n",
       " 'Gry i konsole',\n",
       " 'Gry komputerowe',\n",
       " 'Gry na konsole',\n",
       " 'Komputery',\n",
       " 'Monitory',\n",
       " 'Monitory LCD',\n",
       " 'Odtwarzacze DVD',\n",
       " 'Odtwarzacze mp3 i mp4',\n",
       " 'Okulary 3D',\n",
       " 'Przenośne audio i video',\n",
       " 'Sprzęt RTV',\n",
       " 'Słuchawki',\n",
       " 'Tablety',\n",
       " 'Tablety i akcesoria',\n",
       " 'Telefony i akcesoria',\n",
       " 'Telefony komórkowe',\n",
       " 'Telefony stacjonarne',\n",
       " 'Telewizory i akcesoria',\n",
       " 'Video',\n",
       " 'Zestawy głośnomówiące',\n",
       " 'Zestawy słuchawkowe'}"
      ]
     },
     "execution_count": 54,
     "metadata": {},
     "output_type": "execute_result"
    }
   ],
   "source": [
    "categories"
   ]
  },
  {
   "cell_type": "code",
   "execution_count": 55,
   "id": "e708b0ac",
   "metadata": {},
   "outputs": [
    {
     "data": {
      "text/plain": [
       "{'Telefony i akcesoria': 12,\n",
       " 'Monitory LCD': 17,\n",
       " 'Gry i konsole': 243,\n",
       " 'Tablety': 2,\n",
       " 'Telewizory i akcesoria': 31,\n",
       " 'Gry PlayStation3': 9,\n",
       " 'Telefony stacjonarne': 1,\n",
       " 'Drukarki i skanery': 9,\n",
       " 'Gry na konsole': 41,\n",
       " 'Gry Xbox 360': 32,\n",
       " 'Zestawy głośnomówiące': 5,\n",
       " 'Słuchawki': 1,\n",
       " 'Video': 33,\n",
       " 'Sprzęt RTV': 36,\n",
       " 'Zestawy słuchawkowe': 4,\n",
       " 'Odtwarzacze mp3 i mp4': 2,\n",
       " 'Przenośne audio i video': 2,\n",
       " 'Anteny RTV': 30,\n",
       " 'Biurowe urządzenia wielofunkcyjne': 9,\n",
       " 'Komputery': 28,\n",
       " 'Monitory': 17,\n",
       " 'Gry komputerowe': 202,\n",
       " 'Akcesoria telefoniczne': 9,\n",
       " 'Audio': 1,\n",
       " 'Tablety i akcesoria': 2,\n",
       " 'Telefony komórkowe': 2,\n",
       " 'Okulary 3D': 1,\n",
       " 'Odtwarzacze DVD': 2}"
      ]
     },
     "execution_count": 55,
     "metadata": {},
     "output_type": "execute_result"
    }
   ],
   "source": [
    "categories_occurence = {}\n",
    "for category in categories:\n",
    "    categories_occurence[category] = 0\n",
    "\n",
    "for row in products[\"category_path\"]:\n",
    "    for category in row.split(';'):\n",
    "        categories_occurence[category] += 1\n",
    "\n",
    "categories_occurence"
   ]
  },
  {
   "cell_type": "markdown",
   "id": "3bdfc1e7",
   "metadata": {},
   "source": [
    "### Kolumna *price*"
   ]
  },
  {
   "cell_type": "code",
   "execution_count": 56,
   "id": "27455eb3",
   "metadata": {},
   "outputs": [
    {
     "data": {
      "text/plain": [
       "count     319.000000\n",
       "mean      247.787962\n",
       "std       813.788548\n",
       "min         1.000000\n",
       "25%        24.990000\n",
       "50%        41.000000\n",
       "75%        92.995000\n",
       "max      7639.000000\n",
       "Name: price, dtype: float64"
      ]
     },
     "execution_count": 56,
     "metadata": {},
     "output_type": "execute_result"
    }
   ],
   "source": [
    "products[\"price\"].describe()"
   ]
  },
  {
   "cell_type": "markdown",
   "id": "d9b98198",
   "metadata": {},
   "source": [
    "Ceny ujemne należałoby traktować jako błędne dane, ale w dostarczonym zestawie nie występują"
   ]
  },
  {
   "cell_type": "markdown",
   "id": "4fe13a0d",
   "metadata": {},
   "source": [
    "# Analiza połączonych tabel"
   ]
  },
  {
   "cell_type": "markdown",
   "id": "5f2e6965",
   "metadata": {},
   "source": [
    "Jako, że tabela produktów nie przenosi dla nas żadnej potrzebnej informacji to nie zostaje dołączona."
   ]
  },
  {
   "cell_type": "code",
   "execution_count": 57,
   "id": "48b2a03a",
   "metadata": {},
   "outputs": [],
   "source": [
    "joinedTables = sessions.merge(deliveries, on = \"purchase_id\", how = \"left\").merge(users, on = \"user_id\", how = \"left\")"
   ]
  },
  {
   "cell_type": "code",
   "execution_count": 58,
   "id": "2dc3c9ad",
   "metadata": {},
   "outputs": [
    {
     "name": "stdout",
     "output_type": "stream",
     "text": [
      "<class 'pandas.core.frame.DataFrame'>\n",
      "Int64Index: 40068 entries, 0 to 40067\n",
      "Data columns (total 14 columns):\n",
      " #   Column              Non-Null Count  Dtype         \n",
      "---  ------              --------------  -----         \n",
      " 0   session_id          40068 non-null  int64         \n",
      " 1   timestamp           40068 non-null  datetime64[ns]\n",
      " 2   user_id             40068 non-null  int64         \n",
      " 3   product_id          40068 non-null  int64         \n",
      " 4   event_type          40068 non-null  object        \n",
      " 5   offered_discount    40068 non-null  int64         \n",
      " 6   purchase_id         7383 non-null   float64       \n",
      " 7   purchase_timestamp  7383 non-null   datetime64[ns]\n",
      " 8   delivery_timestamp  7383 non-null   datetime64[ns]\n",
      " 9   delivery_company    7383 non-null   float64       \n",
      " 10  time                7383 non-null   float64       \n",
      " 11  name                40068 non-null  object        \n",
      " 12  city                40068 non-null  object        \n",
      " 13  street              40068 non-null  object        \n",
      "dtypes: datetime64[ns](3), float64(3), int64(4), object(4)\n",
      "memory usage: 4.6+ MB\n"
     ]
    }
   ],
   "source": [
    "joinedTables.info()"
   ]
  },
  {
   "cell_type": "markdown",
   "id": "0e126ef8",
   "metadata": {},
   "source": [
    "## Odrzucenie niepotrzebnych danych"
   ]
  },
  {
   "cell_type": "markdown",
   "id": "a9049792",
   "metadata": {},
   "source": [
    "Możemy odrzucić wpisy, w których użytkownik tylko przeglądał produkty"
   ]
  },
  {
   "cell_type": "code",
   "execution_count": 59,
   "id": "224091e9",
   "metadata": {},
   "outputs": [
    {
     "data": {
      "text/plain": [
       "7383"
      ]
     },
     "execution_count": 59,
     "metadata": {},
     "output_type": "execute_result"
    }
   ],
   "source": [
    "joinedTables = joinedTables[joinedTables[\"event_type\"] == \"BUY_PRODUCT\"]\n",
    "joinedTables = joinedTables.reset_index()\n",
    "joinedTables.shape[0] # ilość wierszy"
   ]
  },
  {
   "cell_type": "code",
   "execution_count": 60,
   "id": "65483c07",
   "metadata": {},
   "outputs": [
    {
     "data": {
      "text/html": [
       "<div>\n",
       "<style scoped>\n",
       "    .dataframe tbody tr th:only-of-type {\n",
       "        vertical-align: middle;\n",
       "    }\n",
       "\n",
       "    .dataframe tbody tr th {\n",
       "        vertical-align: top;\n",
       "    }\n",
       "\n",
       "    .dataframe thead th {\n",
       "        text-align: right;\n",
       "    }\n",
       "</style>\n",
       "<table border=\"1\" class=\"dataframe\">\n",
       "  <thead>\n",
       "    <tr style=\"text-align: right;\">\n",
       "      <th></th>\n",
       "      <th>index</th>\n",
       "      <th>session_id</th>\n",
       "      <th>timestamp</th>\n",
       "      <th>user_id</th>\n",
       "      <th>product_id</th>\n",
       "      <th>event_type</th>\n",
       "      <th>offered_discount</th>\n",
       "      <th>purchase_id</th>\n",
       "      <th>purchase_timestamp</th>\n",
       "      <th>delivery_timestamp</th>\n",
       "      <th>delivery_company</th>\n",
       "      <th>time</th>\n",
       "      <th>name</th>\n",
       "      <th>city</th>\n",
       "      <th>street</th>\n",
       "    </tr>\n",
       "  </thead>\n",
       "  <tbody>\n",
       "    <tr>\n",
       "      <th>0</th>\n",
       "      <td>3</td>\n",
       "      <td>124</td>\n",
       "      <td>2021-08-01 04:06:48</td>\n",
       "      <td>102</td>\n",
       "      <td>1054</td>\n",
       "      <td>BUY_PRODUCT</td>\n",
       "      <td>0</td>\n",
       "      <td>20001.0</td>\n",
       "      <td>2021-08-01 04:06:48</td>\n",
       "      <td>2021-08-03 10:33:21.769350</td>\n",
       "      <td>620.0</td>\n",
       "      <td>54.442714</td>\n",
       "      <td>Anastazja Marcińczyk</td>\n",
       "      <td>Kraków</td>\n",
       "      <td>al. Starowiejska 60</td>\n",
       "    </tr>\n",
       "    <tr>\n",
       "      <th>1</th>\n",
       "      <td>11</td>\n",
       "      <td>125</td>\n",
       "      <td>2021-09-01 17:03:43</td>\n",
       "      <td>102</td>\n",
       "      <td>1032</td>\n",
       "      <td>BUY_PRODUCT</td>\n",
       "      <td>10</td>\n",
       "      <td>20002.0</td>\n",
       "      <td>2021-09-01 17:03:43</td>\n",
       "      <td>2021-09-04 10:29:29.834053</td>\n",
       "      <td>360.0</td>\n",
       "      <td>65.429676</td>\n",
       "      <td>Anastazja Marcińczyk</td>\n",
       "      <td>Kraków</td>\n",
       "      <td>al. Starowiejska 60</td>\n",
       "    </tr>\n",
       "    <tr>\n",
       "      <th>2</th>\n",
       "      <td>13</td>\n",
       "      <td>126</td>\n",
       "      <td>2021-03-26 21:30:24</td>\n",
       "      <td>102</td>\n",
       "      <td>1035</td>\n",
       "      <td>BUY_PRODUCT</td>\n",
       "      <td>0</td>\n",
       "      <td>20003.0</td>\n",
       "      <td>2021-03-26 21:30:24</td>\n",
       "      <td>2021-03-29 08:01:25.618844</td>\n",
       "      <td>620.0</td>\n",
       "      <td>58.517116</td>\n",
       "      <td>Anastazja Marcińczyk</td>\n",
       "      <td>Kraków</td>\n",
       "      <td>al. Starowiejska 60</td>\n",
       "    </tr>\n",
       "    <tr>\n",
       "      <th>3</th>\n",
       "      <td>16</td>\n",
       "      <td>128</td>\n",
       "      <td>2021-06-10 05:59:29</td>\n",
       "      <td>102</td>\n",
       "      <td>1076</td>\n",
       "      <td>BUY_PRODUCT</td>\n",
       "      <td>0</td>\n",
       "      <td>20004.0</td>\n",
       "      <td>2021-06-10 05:59:29</td>\n",
       "      <td>2021-06-12 13:12:50.265103</td>\n",
       "      <td>620.0</td>\n",
       "      <td>55.222574</td>\n",
       "      <td>Anastazja Marcińczyk</td>\n",
       "      <td>Kraków</td>\n",
       "      <td>al. Starowiejska 60</td>\n",
       "    </tr>\n",
       "    <tr>\n",
       "      <th>4</th>\n",
       "      <td>19</td>\n",
       "      <td>129</td>\n",
       "      <td>2021-01-11 07:03:21</td>\n",
       "      <td>102</td>\n",
       "      <td>1233</td>\n",
       "      <td>BUY_PRODUCT</td>\n",
       "      <td>10</td>\n",
       "      <td>20005.0</td>\n",
       "      <td>2021-01-11 07:03:21</td>\n",
       "      <td>2021-01-13 15:46:32.464349</td>\n",
       "      <td>620.0</td>\n",
       "      <td>56.719851</td>\n",
       "      <td>Anastazja Marcińczyk</td>\n",
       "      <td>Kraków</td>\n",
       "      <td>al. Starowiejska 60</td>\n",
       "    </tr>\n",
       "    <tr>\n",
       "      <th>...</th>\n",
       "      <td>...</td>\n",
       "      <td>...</td>\n",
       "      <td>...</td>\n",
       "      <td>...</td>\n",
       "      <td>...</td>\n",
       "      <td>...</td>\n",
       "      <td>...</td>\n",
       "      <td>...</td>\n",
       "      <td>...</td>\n",
       "      <td>...</td>\n",
       "      <td>...</td>\n",
       "      <td>...</td>\n",
       "      <td>...</td>\n",
       "      <td>...</td>\n",
       "      <td>...</td>\n",
       "    </tr>\n",
       "    <tr>\n",
       "      <th>7378</th>\n",
       "      <td>40045</td>\n",
       "      <td>10591</td>\n",
       "      <td>2021-04-09 03:33:34</td>\n",
       "      <td>301</td>\n",
       "      <td>1318</td>\n",
       "      <td>BUY_PRODUCT</td>\n",
       "      <td>0</td>\n",
       "      <td>27379.0</td>\n",
       "      <td>2021-04-09 03:33:34</td>\n",
       "      <td>2021-04-12 08:41:51.284434</td>\n",
       "      <td>360.0</td>\n",
       "      <td>77.138135</td>\n",
       "      <td>Marika Grzela</td>\n",
       "      <td>Wrocław</td>\n",
       "      <td>ulica Warszawska 65</td>\n",
       "    </tr>\n",
       "    <tr>\n",
       "      <th>7379</th>\n",
       "      <td>40052</td>\n",
       "      <td>10594</td>\n",
       "      <td>2021-07-25 12:13:57</td>\n",
       "      <td>301</td>\n",
       "      <td>1278</td>\n",
       "      <td>BUY_PRODUCT</td>\n",
       "      <td>0</td>\n",
       "      <td>27380.0</td>\n",
       "      <td>2021-07-25 12:13:57</td>\n",
       "      <td>2021-07-27 08:23:26.240621</td>\n",
       "      <td>360.0</td>\n",
       "      <td>44.158122</td>\n",
       "      <td>Marika Grzela</td>\n",
       "      <td>Wrocław</td>\n",
       "      <td>ulica Warszawska 65</td>\n",
       "    </tr>\n",
       "    <tr>\n",
       "      <th>7380</th>\n",
       "      <td>40060</td>\n",
       "      <td>10597</td>\n",
       "      <td>2021-04-22 18:15:02</td>\n",
       "      <td>301</td>\n",
       "      <td>1201</td>\n",
       "      <td>BUY_PRODUCT</td>\n",
       "      <td>0</td>\n",
       "      <td>27381.0</td>\n",
       "      <td>2021-04-22 18:15:02</td>\n",
       "      <td>2021-04-24 13:24:01.447128</td>\n",
       "      <td>360.0</td>\n",
       "      <td>43.149846</td>\n",
       "      <td>Marika Grzela</td>\n",
       "      <td>Wrocław</td>\n",
       "      <td>ulica Warszawska 65</td>\n",
       "    </tr>\n",
       "    <tr>\n",
       "      <th>7381</th>\n",
       "      <td>40064</td>\n",
       "      <td>10599</td>\n",
       "      <td>2021-01-31 14:48:48</td>\n",
       "      <td>301</td>\n",
       "      <td>1277</td>\n",
       "      <td>BUY_PRODUCT</td>\n",
       "      <td>0</td>\n",
       "      <td>27382.0</td>\n",
       "      <td>2021-01-31 14:48:48</td>\n",
       "      <td>2021-02-01 08:55:45.211586</td>\n",
       "      <td>620.0</td>\n",
       "      <td>18.115892</td>\n",
       "      <td>Marika Grzela</td>\n",
       "      <td>Wrocław</td>\n",
       "      <td>ulica Warszawska 65</td>\n",
       "    </tr>\n",
       "    <tr>\n",
       "      <th>7382</th>\n",
       "      <td>40067</td>\n",
       "      <td>10601</td>\n",
       "      <td>2021-06-06 05:38:41</td>\n",
       "      <td>301</td>\n",
       "      <td>1318</td>\n",
       "      <td>BUY_PRODUCT</td>\n",
       "      <td>0</td>\n",
       "      <td>27383.0</td>\n",
       "      <td>2021-06-06 05:38:41</td>\n",
       "      <td>2021-06-08 11:25:28.242706</td>\n",
       "      <td>360.0</td>\n",
       "      <td>53.779790</td>\n",
       "      <td>Marika Grzela</td>\n",
       "      <td>Wrocław</td>\n",
       "      <td>ulica Warszawska 65</td>\n",
       "    </tr>\n",
       "  </tbody>\n",
       "</table>\n",
       "<p>7383 rows × 15 columns</p>\n",
       "</div>"
      ],
      "text/plain": [
       "      index  session_id           timestamp  user_id  product_id   event_type  \\\n",
       "0         3         124 2021-08-01 04:06:48      102        1054  BUY_PRODUCT   \n",
       "1        11         125 2021-09-01 17:03:43      102        1032  BUY_PRODUCT   \n",
       "2        13         126 2021-03-26 21:30:24      102        1035  BUY_PRODUCT   \n",
       "3        16         128 2021-06-10 05:59:29      102        1076  BUY_PRODUCT   \n",
       "4        19         129 2021-01-11 07:03:21      102        1233  BUY_PRODUCT   \n",
       "...     ...         ...                 ...      ...         ...          ...   \n",
       "7378  40045       10591 2021-04-09 03:33:34      301        1318  BUY_PRODUCT   \n",
       "7379  40052       10594 2021-07-25 12:13:57      301        1278  BUY_PRODUCT   \n",
       "7380  40060       10597 2021-04-22 18:15:02      301        1201  BUY_PRODUCT   \n",
       "7381  40064       10599 2021-01-31 14:48:48      301        1277  BUY_PRODUCT   \n",
       "7382  40067       10601 2021-06-06 05:38:41      301        1318  BUY_PRODUCT   \n",
       "\n",
       "      offered_discount  purchase_id  purchase_timestamp  \\\n",
       "0                    0      20001.0 2021-08-01 04:06:48   \n",
       "1                   10      20002.0 2021-09-01 17:03:43   \n",
       "2                    0      20003.0 2021-03-26 21:30:24   \n",
       "3                    0      20004.0 2021-06-10 05:59:29   \n",
       "4                   10      20005.0 2021-01-11 07:03:21   \n",
       "...                ...          ...                 ...   \n",
       "7378                 0      27379.0 2021-04-09 03:33:34   \n",
       "7379                 0      27380.0 2021-07-25 12:13:57   \n",
       "7380                 0      27381.0 2021-04-22 18:15:02   \n",
       "7381                 0      27382.0 2021-01-31 14:48:48   \n",
       "7382                 0      27383.0 2021-06-06 05:38:41   \n",
       "\n",
       "             delivery_timestamp  delivery_company       time  \\\n",
       "0    2021-08-03 10:33:21.769350             620.0  54.442714   \n",
       "1    2021-09-04 10:29:29.834053             360.0  65.429676   \n",
       "2    2021-03-29 08:01:25.618844             620.0  58.517116   \n",
       "3    2021-06-12 13:12:50.265103             620.0  55.222574   \n",
       "4    2021-01-13 15:46:32.464349             620.0  56.719851   \n",
       "...                         ...               ...        ...   \n",
       "7378 2021-04-12 08:41:51.284434             360.0  77.138135   \n",
       "7379 2021-07-27 08:23:26.240621             360.0  44.158122   \n",
       "7380 2021-04-24 13:24:01.447128             360.0  43.149846   \n",
       "7381 2021-02-01 08:55:45.211586             620.0  18.115892   \n",
       "7382 2021-06-08 11:25:28.242706             360.0  53.779790   \n",
       "\n",
       "                      name     city               street  \n",
       "0     Anastazja Marcińczyk   Kraków  al. Starowiejska 60  \n",
       "1     Anastazja Marcińczyk   Kraków  al. Starowiejska 60  \n",
       "2     Anastazja Marcińczyk   Kraków  al. Starowiejska 60  \n",
       "3     Anastazja Marcińczyk   Kraków  al. Starowiejska 60  \n",
       "4     Anastazja Marcińczyk   Kraków  al. Starowiejska 60  \n",
       "...                    ...      ...                  ...  \n",
       "7378         Marika Grzela  Wrocław  ulica Warszawska 65  \n",
       "7379         Marika Grzela  Wrocław  ulica Warszawska 65  \n",
       "7380         Marika Grzela  Wrocław  ulica Warszawska 65  \n",
       "7381         Marika Grzela  Wrocław  ulica Warszawska 65  \n",
       "7382         Marika Grzela  Wrocław  ulica Warszawska 65  \n",
       "\n",
       "[7383 rows x 15 columns]"
      ]
     },
     "execution_count": 60,
     "metadata": {},
     "output_type": "execute_result"
    }
   ],
   "source": [
    "joinedTables"
   ]
  },
  {
   "cell_type": "markdown",
   "id": "d195fc96",
   "metadata": {},
   "source": [
    "Odrzucić niepotrzebne kolumny, które nie przenoszą informacji o dostawie"
   ]
  },
  {
   "cell_type": "code",
   "execution_count": 61,
   "id": "b4a0c4db",
   "metadata": {
    "scrolled": true
   },
   "outputs": [
    {
     "name": "stdout",
     "output_type": "stream",
     "text": [
      "<class 'pandas.core.frame.DataFrame'>\n",
      "RangeIndex: 7383 entries, 0 to 7382\n",
      "Data columns (total 7 columns):\n",
      " #   Column              Non-Null Count  Dtype         \n",
      "---  ------              --------------  -----         \n",
      " 0   index               7383 non-null   int64         \n",
      " 1   purchase_timestamp  7383 non-null   datetime64[ns]\n",
      " 2   delivery_timestamp  7383 non-null   datetime64[ns]\n",
      " 3   delivery_company    7383 non-null   float64       \n",
      " 4   time                7383 non-null   float64       \n",
      " 5   city                7383 non-null   object        \n",
      " 6   street              7383 non-null   object        \n",
      "dtypes: datetime64[ns](2), float64(2), int64(1), object(2)\n",
      "memory usage: 403.9+ KB\n"
     ]
    }
   ],
   "source": [
    "joinedTables.drop({\"session_id\", \"timestamp\", \"user_id\", \"product_id\", \"event_type\", \"offered_discount\", \"purchase_id\", \"name\"}, axis = 1, inplace=True)\n",
    "joinedTables.info()"
   ]
  },
  {
   "cell_type": "markdown",
   "id": "78fc84ea",
   "metadata": {},
   "source": [
    "## Dodatkowe informacje o czasie dostawy"
   ]
  },
  {
   "cell_type": "markdown",
   "id": "75993c24",
   "metadata": {},
   "source": [
    "Ze względu, że dzień złożenia i dostarczenia zamówienia może mieć wpływ na czas dostawy dodajemy nową kolumnę.\n",
    "Np. złożenie zamówienia w weekend opóźni czas dostawy."
   ]
  },
  {
   "cell_type": "code",
   "execution_count": 62,
   "id": "a62d7b49",
   "metadata": {},
   "outputs": [],
   "source": [
    "joinedTables[\"purchase_day_of_week\"] = joinedTables[\"purchase_timestamp\"].dt.dayofweek\n",
    "joinedTables[\"delivery_day_of_week\"] = joinedTables[\"delivery_timestamp\"].dt.dayofweek"
   ]
  },
  {
   "cell_type": "code",
   "execution_count": 63,
   "id": "b2991222",
   "metadata": {},
   "outputs": [
    {
     "data": {
      "text/plain": [
       "purchase_day_of_week\n",
       "0    1059\n",
       "1    1071\n",
       "2    1074\n",
       "3    1013\n",
       "4    1049\n",
       "5    1052\n",
       "6    1065\n",
       "dtype: int64"
      ]
     },
     "execution_count": 63,
     "metadata": {},
     "output_type": "execute_result"
    }
   ],
   "source": [
    "joinedTables.groupby(\"purchase_day_of_week\").size()"
   ]
  },
  {
   "cell_type": "code",
   "execution_count": 64,
   "id": "9e796cbd",
   "metadata": {},
   "outputs": [
    {
     "data": {
      "text/plain": [
       "delivery_day_of_week\n",
       "0    2091\n",
       "1    1052\n",
       "2    1073\n",
       "3    1089\n",
       "4    1014\n",
       "5    1064\n",
       "dtype: int64"
      ]
     },
     "execution_count": 64,
     "metadata": {},
     "output_type": "execute_result"
    }
   ],
   "source": [
    "joinedTables.groupby(\"delivery_day_of_week\").size()"
   ]
  },
  {
   "cell_type": "markdown",
   "id": "16344a30",
   "metadata": {},
   "source": [
    "Podobnie z godziną w ciągu dnia.\n",
    "Np. zamówienia złożone w godzinach wieczornych wysyłane są dopiero następnego dnia"
   ]
  },
  {
   "cell_type": "code",
   "execution_count": 65,
   "id": "2dfb0458",
   "metadata": {},
   "outputs": [],
   "source": [
    "joinedTables[\"purchase_hour\"] = joinedTables[\"purchase_timestamp\"].dt.hour\n",
    "joinedTables[\"delivery_hour\"] = joinedTables[\"delivery_timestamp\"].dt.hour"
   ]
  },
  {
   "cell_type": "code",
   "execution_count": 66,
   "id": "84ac079c",
   "metadata": {},
   "outputs": [
    {
     "data": {
      "text/plain": [
       "purchase_hour\n",
       "0     320\n",
       "1     348\n",
       "2     299\n",
       "3     327\n",
       "4     318\n",
       "5     298\n",
       "6     285\n",
       "7     296\n",
       "8     327\n",
       "9     343\n",
       "10    317\n",
       "11    296\n",
       "12    292\n",
       "13    298\n",
       "14    305\n",
       "15    303\n",
       "16    309\n",
       "17    337\n",
       "18    280\n",
       "19    292\n",
       "20    302\n",
       "21    284\n",
       "22    306\n",
       "23    301\n",
       "dtype: int64"
      ]
     },
     "execution_count": 66,
     "metadata": {},
     "output_type": "execute_result"
    }
   ],
   "source": [
    "joinedTables.groupby(\"purchase_hour\").size()"
   ]
  },
  {
   "cell_type": "code",
   "execution_count": 67,
   "id": "e18aaab6",
   "metadata": {},
   "outputs": [
    {
     "data": {
      "text/plain": [
       "delivery_hour\n",
       "8     4252\n",
       "9      325\n",
       "10     308\n",
       "11     310\n",
       "12     284\n",
       "13     326\n",
       "14     316\n",
       "15     328\n",
       "16     290\n",
       "17     313\n",
       "18     331\n",
       "dtype: int64"
      ]
     },
     "execution_count": 67,
     "metadata": {},
     "output_type": "execute_result"
    }
   ],
   "source": [
    "joinedTables.groupby(\"delivery_hour\").size()"
   ]
  },
  {
   "cell_type": "markdown",
   "id": "7272c233",
   "metadata": {},
   "source": [
    "Średni czas dostawy do poszczególnych miast"
   ]
  },
  {
   "cell_type": "code",
   "execution_count": 68,
   "id": "de55cfcd",
   "metadata": {},
   "outputs": [
    {
     "data": {
      "text/plain": [
       "city\n",
       "Gdynia      64.343165\n",
       "Kraków      62.889455\n",
       "Poznań      34.047246\n",
       "Radom       33.990261\n",
       "Szczecin    45.449439\n",
       "Warszawa    67.388307\n",
       "Wrocław     36.361044\n",
       "Name: time, dtype: float64"
      ]
     },
     "execution_count": 68,
     "metadata": {},
     "output_type": "execute_result"
    }
   ],
   "source": [
    "joinedTables.groupby(\"city\")[\"time\"].mean()"
   ]
  }
 ],
 "metadata": {
  "kernelspec": {
   "display_name": "Python 3 (ipykernel)",
   "language": "python",
   "name": "python3"
  },
  "language_info": {
   "codemirror_mode": {
    "name": "ipython",
    "version": 3
   },
   "file_extension": ".py",
   "mimetype": "text/x-python",
   "name": "python",
   "nbconvert_exporter": "python",
   "pygments_lexer": "ipython3",
   "version": "3.7.0"
  }
 },
 "nbformat": 4,
 "nbformat_minor": 5
}
