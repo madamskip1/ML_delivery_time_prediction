{
 "cells": [
  {
   "cell_type": "markdown",
   "id": "75d7ca5a",
   "metadata": {},
   "source": [
    "## Porównanie wyników"
   ]
  },
  {
   "cell_type": "markdown",
   "id": "ed8664b4",
   "metadata": {},
   "source": [
    "Porównanie wyników modeli\n",
    "- prostego\n",
    "- lasu losowego"
   ]
  },
  {
   "cell_type": "code",
   "execution_count": 1,
   "id": "6649116d",
   "metadata": {},
   "outputs": [],
   "source": [
    "import numpy as np\n",
    "import pandas as pd\n",
    "from sklearn.ensemble import RandomForestRegressor\n",
    "from joblib import load\n",
    "import matplotlib.pyplot as plt"
   ]
  },
  {
   "cell_type": "code",
   "execution_count": 2,
   "id": "e2776fad",
   "metadata": {},
   "outputs": [],
   "source": [
    "test_data = pd.read_csv(\"../data/processed/test.csv\")"
   ]
  },
  {
   "cell_type": "code",
   "execution_count": 3,
   "id": "0dbc1a04",
   "metadata": {},
   "outputs": [],
   "source": [
    "cities = []\n",
    "\n",
    "for col in test_data.columns:\n",
    "    if col.find(\"city_\") != -1:\n",
    "        cities.append(col)"
   ]
  },
  {
   "cell_type": "code",
   "execution_count": 4,
   "id": "d175c564",
   "metadata": {},
   "outputs": [],
   "source": [
    "target = \"time\"\n",
    "features = test_data.columns.tolist()\n",
    "features.remove(target)"
   ]
  },
  {
   "cell_type": "markdown",
   "id": "100a3a2b",
   "metadata": {},
   "source": [
    "### Obliczanie MSE dla modelu prostego "
   ]
  },
  {
   "cell_type": "code",
   "execution_count": 5,
   "id": "ceae3abd",
   "metadata": {},
   "outputs": [],
   "source": [
    "import sys\n",
    "sys.path.insert(1, '../src')\n",
    "from simple_model import *"
   ]
  },
  {
   "cell_type": "code",
   "execution_count": 6,
   "id": "2d472221",
   "metadata": {},
   "outputs": [],
   "source": [
    "simple_model = SimpleModel()"
   ]
  },
  {
   "cell_type": "code",
   "execution_count": 7,
   "id": "59e372af",
   "metadata": {},
   "outputs": [],
   "source": [
    "squared_errors_simple_model = []\n",
    "MSE_cities_simple_model = []"
   ]
  },
  {
   "cell_type": "code",
   "execution_count": 8,
   "id": "d1b6d546",
   "metadata": {},
   "outputs": [],
   "source": [
    "for city in cities:\n",
    "    predicted_value = simple_model.predict_by_city(city)\n",
    "    expected_values = test_data[test_data[city] == 1][target]\n",
    "    squared_errors_city = []\n",
    "    \n",
    "    for expected_value in expected_values:\n",
    "        squared_errors_city.append(np.square(expected_value - predicted_value))\n",
    "        \n",
    "    MSE_cities_simple_model.append(np.mean(squared_errors_city))    \n",
    "    squared_errors_simple_model += squared_errors_city"
   ]
  },
  {
   "cell_type": "code",
   "execution_count": 9,
   "id": "ad28e98b",
   "metadata": {},
   "outputs": [],
   "source": [
    "MSE_simple_model = np.mean(squared_errors_simple_model)"
   ]
  },
  {
   "cell_type": "code",
   "execution_count": 10,
   "id": "c288cde2",
   "metadata": {},
   "outputs": [
    {
     "data": {
      "text/plain": [
       "202.12802815733187"
      ]
     },
     "execution_count": 10,
     "metadata": {},
     "output_type": "execute_result"
    }
   ],
   "source": [
    "MSE_simple_model"
   ]
  },
  {
   "cell_type": "markdown",
   "id": "4995b7db",
   "metadata": {},
   "source": [
    "### Obliczanie MSE dla lasu losowego"
   ]
  },
  {
   "cell_type": "code",
   "execution_count": 11,
   "id": "6091d47d",
   "metadata": {},
   "outputs": [],
   "source": [
    "random_forest_model = load(\"../models/random_forest_model.joblib\")"
   ]
  },
  {
   "cell_type": "markdown",
   "id": "843dde22",
   "metadata": {},
   "source": [
    "#### Dla całego zbioru"
   ]
  },
  {
   "cell_type": "code",
   "execution_count": 12,
   "id": "05158180",
   "metadata": {},
   "outputs": [],
   "source": [
    "predicted_values = random_forest_model.predict(test_data[features])\n",
    "expected_values = test_data[target].to_numpy()"
   ]
  },
  {
   "cell_type": "code",
   "execution_count": 13,
   "id": "50164cb3",
   "metadata": {},
   "outputs": [],
   "source": [
    "MSE_random_forest = (np.square(expected_values - predicted_values)).mean()"
   ]
  },
  {
   "cell_type": "code",
   "execution_count": 14,
   "id": "8f6cea72",
   "metadata": {},
   "outputs": [
    {
     "data": {
      "text/plain": [
       "110.70194167683361"
      ]
     },
     "execution_count": 14,
     "metadata": {},
     "output_type": "execute_result"
    }
   ],
   "source": [
    "MSE_random_forest"
   ]
  },
  {
   "cell_type": "markdown",
   "id": "b5194d16",
   "metadata": {},
   "source": [
    "#### Dla zbioru podzielonego na miasta"
   ]
  },
  {
   "cell_type": "code",
   "execution_count": 15,
   "id": "5a8a5b91",
   "metadata": {},
   "outputs": [],
   "source": [
    "MSE_cities_random_forest = []"
   ]
  },
  {
   "cell_type": "code",
   "execution_count": 16,
   "id": "d024027d",
   "metadata": {},
   "outputs": [],
   "source": [
    "for city in cities:\n",
    "    city_data = test_data[test_data[city] == 1]\n",
    "    expected_values = city_data[target]\n",
    "    predicted_values = random_forest_model.predict(city_data[features])\n",
    "    MSE_cities_random_forest.append((np.square(expected_values - predicted_values)).mean())"
   ]
  },
  {
   "cell_type": "markdown",
   "id": "1eb672bb",
   "metadata": {},
   "source": [
    "### Porównanie wyników"
   ]
  },
  {
   "cell_type": "markdown",
   "id": "6b15e602",
   "metadata": {},
   "source": [
    "#### Dla całego zbioru"
   ]
  },
  {
   "cell_type": "code",
   "execution_count": 17,
   "id": "58c77580",
   "metadata": {},
   "outputs": [
    {
     "name": "stdout",
     "output_type": "stream",
     "text": [
      "Model prosty: 202.12802815733187\n"
     ]
    }
   ],
   "source": [
    "print(\"Model prosty: \" + str(MSE_simple_model))"
   ]
  },
  {
   "cell_type": "code",
   "execution_count": 18,
   "id": "c7d79703",
   "metadata": {},
   "outputs": [
    {
     "name": "stdout",
     "output_type": "stream",
     "text": [
      "Las losowy: 110.70194167683361\n"
     ]
    }
   ],
   "source": [
    "print(\"Las losowy: \" + str(MSE_random_forest))"
   ]
  },
  {
   "cell_type": "code",
   "execution_count": 19,
   "id": "290d0d2c",
   "metadata": {
    "scrolled": true
   },
   "outputs": [
    {
     "data": {
      "text/plain": [
       "1.8258760875883608"
      ]
     },
     "execution_count": 19,
     "metadata": {},
     "output_type": "execute_result"
    }
   ],
   "source": [
    "MSE_simple_model / MSE_random_forest"
   ]
  },
  {
   "cell_type": "markdown",
   "id": "4fa6970e",
   "metadata": {},
   "source": [
    "Błąd średniokwadratowy na zbiorze testowym dla modelu zaawansowango jest $83\\%$ mniejszy niż dla modelu prostego."
   ]
  },
  {
   "cell_type": "code",
   "execution_count": 20,
   "id": "815d18ea",
   "metadata": {
    "scrolled": false
   },
   "outputs": [
    {
     "data": {
      "image/png": "[encoded data removed]",
      "text/plain": [
       "<Figure size 432x288 with 1 Axes>"
      ]
     },
     "metadata": {
      "needs_background": "light"
     },
     "output_type": "display_data"
    }
   ],
   "source": [
    "plot_bar_names = [\"Model prosty\", \"Las losowy\"]\n",
    "plot_values = [MSE_simple_model, MSE_random_forest]\n",
    "\n",
    "fig, ax = plt.subplots()\n",
    "plt.barh(plot_bar_names, plot_values, 0.75)\n",
    "plt.xlabel(\"Błąd średniokwadratowy (mniej = lepiej)\")\n",
    "plt.ylabel(\"Model\")\n",
    "ax.set_xlim([0, 250])\n",
    "for i, v in enumerate(plot_values):\n",
    "    ax.text(v + 2, i, \"{:.2f}\".format(v), color = 'blue', fontweight = 'bold', va = \"center\")\n",
    "plt.show()"
   ]
  },
  {
   "cell_type": "markdown",
   "id": "89822fb4",
   "metadata": {},
   "source": [
    "#### Dla zbioru podzielonego na miasta"
   ]
  },
  {
   "cell_type": "code",
   "execution_count": 21,
   "id": "9a741a6a",
   "metadata": {},
   "outputs": [],
   "source": [
    "for i in range(len(cities)):\n",
    "    cities[i] = cities[i].replace(\"city_\", \"\")"
   ]
  },
  {
   "cell_type": "code",
   "execution_count": 22,
   "id": "78db96b0",
   "metadata": {},
   "outputs": [
    {
     "name": "stdout",
     "output_type": "stream",
     "text": [
      "Gdynia: 185.5027268951305\n",
      "Kraków: 225.8836514192526\n",
      "Poznań: 177.13769681060185\n",
      "Radom: 252.23751334280792\n",
      "Szczecin: 139.30450527305504\n",
      "Warszawa: 215.88165665693313\n",
      "Wrocław: 256.42898483879367\n"
     ]
    }
   ],
   "source": [
    "for i in range(len(cities)):\n",
    "    print(cities[i] + \": \" + str(MSE_cities_simple_model[i]))"
   ]
  },
  {
   "cell_type": "code",
   "execution_count": 23,
   "id": "7514805e",
   "metadata": {
    "scrolled": false
   },
   "outputs": [
    {
     "name": "stdout",
     "output_type": "stream",
     "text": [
      "Gdynia: 119.48067347559991\n",
      "Kraków: 105.95448229702883\n",
      "Poznań: 106.72145395099332\n",
      "Radom: 109.83454410302795\n",
      "Szczecin: 97.72964461177126\n",
      "Warszawa: 135.68993387186075\n",
      "Wrocław: 108.68468142499906\n"
     ]
    }
   ],
   "source": [
    "for i in range(len(cities)):\n",
    "    print(cities[i] + \": \" + str(MSE_cities_random_forest[i]))"
   ]
  },
  {
   "cell_type": "code",
   "execution_count": 24,
   "id": "6c96c6a6",
   "metadata": {
    "scrolled": true
   },
   "outputs": [
    {
     "name": "stdout",
     "output_type": "stream",
     "text": [
      "1.8595126468697718\n"
     ]
    }
   ],
   "source": [
    "MSE_cities_ratio = 0.0\n",
    "for i in range(len(cities)):\n",
    "    MSE_cities_ratio += MSE_cities_simple_model[i] / MSE_cities_random_forest[i]\n",
    "    \n",
    "MSE_cities_ratio /= len(cities)\n",
    "print(MSE_cities_ratio)"
   ]
  },
  {
   "cell_type": "markdown",
   "id": "e762cfda",
   "metadata": {},
   "source": [
    "Błąd średniokwadratowy dla poszczególnych miast na zbiorze testowym dla modelu zaawansowango jest srednio $86\\%$ mniejszy niż dla modelu prostego."
   ]
  },
  {
   "cell_type": "code",
   "execution_count": 25,
   "id": "2bb3c420",
   "metadata": {},
   "outputs": [
    {
     "data": {
      "image/png": "[encoded data removed]",
      "text/plain": [
       "<Figure size 1080x288 with 1 Axes>"
      ]
     },
     "metadata": {
      "needs_background": "light"
     },
     "output_type": "display_data"
    }
   ],
   "source": [
    "fig, ax = plt.subplots()\n",
    "fig.set_figwidth(15)\n",
    "ax.set_ylim([0, 300])\n",
    "x_axis = np.arange(len(cities))\n",
    "width = 0.4\n",
    "plt.bar(x_axis - 0.2, MSE_cities_simple_model, width = width, label = \"Model prosty\")\n",
    "plt.bar(x_axis + 0.2, MSE_cities_random_forest, width = width, label = \"Las losowy\")\n",
    "plt.xticks(x_axis, cities)\n",
    "plt.ylabel(\"Błąd średniokwadratowy (mniej = lepiej)\")\n",
    "plt.xlabel(\"Miasto\")\n",
    "plt.legend()\n",
    "plt.show()"
   ]
  }
 ],
 "metadata": {
  "kernelspec": {
   "display_name": "Python 3 (ipykernel)",
   "language": "python",
   "name": "python3"
  },
  "language_info": {
   "codemirror_mode": {
    "name": "ipython",
    "version": 3
   },
   "file_extension": ".py",
   "mimetype": "text/x-python",
   "name": "python",
   "nbconvert_exporter": "python",
   "pygments_lexer": "ipython3",
   "version": "3.7.0"
  }
 },
 "nbformat": 4,
 "nbformat_minor": 5
}
