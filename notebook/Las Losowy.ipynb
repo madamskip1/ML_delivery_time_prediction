{
 "cells": [
  {
   "cell_type": "markdown",
   "id": "e618ce6c",
   "metadata": {},
   "source": [
    "### Las Losowy"
   ]
  },
  {
   "cell_type": "code",
   "execution_count": 1,
   "id": "44527249",
   "metadata": {},
   "outputs": [],
   "source": [
    "import numpy as np\n",
    "import pandas as pd\n",
    "from sklearn.ensemble import RandomForestRegressor\n",
    "from sklearn.model_selection import RandomizedSearchCV\n",
    "from joblib import dump, load"
   ]
  },
  {
   "cell_type": "code",
   "execution_count": 2,
   "id": "41de3da1",
   "metadata": {},
   "outputs": [],
   "source": [
    "def loadData(file_name):\n",
    "    return pd.read_csv(\"../data/processed/\" + file_name)\n",
    "\n",
    "train_data = loadData(\"train.csv\")\n",
    "test_data = loadData(\"test.csv\")"
   ]
  },
  {
   "cell_type": "code",
   "execution_count": 3,
   "id": "d64341d3",
   "metadata": {},
   "outputs": [],
   "source": [
    "target = \"time\"\n",
    "features = train_data.columns.tolist()\n",
    "features.remove(target)"
   ]
  },
  {
   "cell_type": "code",
   "execution_count": 4,
   "id": "db87ea12",
   "metadata": {},
   "outputs": [],
   "source": [
    "train_data_X = train_data[features]\n",
    "train_data_Y = train_data[target]"
   ]
  },
  {
   "cell_type": "markdown",
   "id": "3becc9c8",
   "metadata": {},
   "source": [
    "### Strojenie modelu"
   ]
  },
  {
   "cell_type": "code",
   "execution_count": 5,
   "id": "2f07a478",
   "metadata": {},
   "outputs": [],
   "source": [
    "random_grid = {\n",
    "    \"n_estimators\": [int(x) for x in np.linspace(start = 200, stop = 2000, num = 100)],\n",
    "    \"max_features\": ['auto', 'sqrt'],\n",
    "    \"max_depth\": [int(x) for x in np.linspace(1, 100, num = 50)],\n",
    "    \"min_samples_split\": [2, 5, 10],\n",
    "    \"min_samples_leaf\": [1, 2, 4],\n",
    "    \"bootstrap\": [True, False]\n",
    "}"
   ]
  },
  {
   "cell_type": "code",
   "execution_count": 6,
   "id": "3b0970e2",
   "metadata": {},
   "outputs": [],
   "source": [
    "randomForest = RandomForestRegressor()\n",
    "randomForest_Randomizer = RandomizedSearchCV(\n",
    "    estimator = randomForest, \n",
    "    param_distributions = random_grid, \n",
    "    n_iter = 1000, \n",
    "    cv = 3, \n",
    "    verbose = 2, \n",
    "    random_state = 42, \n",
    "    n_jobs = -1)"
   ]
  },
  {
   "cell_type": "markdown",
   "id": "f2798b75",
   "metadata": {},
   "source": [
    "Zostało przetestowane $1000$ kombinacji parametrów, w 3-krotnej strategii podziału z walidacją krzyżową. "
   ]
  },
  {
   "cell_type": "code",
   "execution_count": 7,
   "id": "d9233266",
   "metadata": {},
   "outputs": [],
   "source": [
    "# randomForest_Randomizer.fit(train_data_X, train_data_Y)"
   ]
  },
  {
   "cell_type": "markdown",
   "id": "d1834db2",
   "metadata": {},
   "source": [
    "Ze względu na dużą ilość kombinacji i długi czas wykonywania obliczeń testowanie parametrów odbyło się poza notesem."
   ]
  },
  {
   "cell_type": "markdown",
   "id": "bccd6730",
   "metadata": {},
   "source": [
    "Najlepsza kombinacja:\n",
    "\n",
    "```\n",
    "{'n_estimators': 272, \n",
    "'min_samples_split': 2, \n",
    "'min_samples_leaf': 4, \n",
    "'max_features': 'sqrt', \n",
    "'max_depth': 41, \n",
    "'bootstrap': True}\n",
    "```\n",
    "Wynik: 0.7009982704409756"
   ]
  },
  {
   "cell_type": "markdown",
   "id": "1f885765",
   "metadata": {},
   "source": [
    "### Trenowanie modelu"
   ]
  },
  {
   "cell_type": "markdown",
   "id": "c478b609",
   "metadata": {},
   "source": [
    "#### Na hiperparamtrach domyślnych "
   ]
  },
  {
   "cell_type": "code",
   "execution_count": 8,
   "id": "7ac4ff08",
   "metadata": {
    "scrolled": false
   },
   "outputs": [
    {
     "data": {
      "text/plain": [
       "RandomForestRegressor(random_state=42)"
      ]
     },
     "execution_count": 8,
     "metadata": {},
     "output_type": "execute_result"
    }
   ],
   "source": [
    "model_default = RandomForestRegressor(random_state = 42)\n",
    "model_default.fit(train_data_X, train_data_Y)"
   ]
  },
  {
   "cell_type": "markdown",
   "id": "7b174366",
   "metadata": {},
   "source": [
    "#### Na hiperparametrach dostrojonych"
   ]
  },
  {
   "cell_type": "code",
   "execution_count": 9,
   "id": "cf105c5e",
   "metadata": {},
   "outputs": [
    {
     "data": {
      "text/plain": [
       "RandomForestRegressor(max_depth=41, max_features='sqrt', min_samples_leaf=4,\n",
       "                      n_estimators=272, random_state=42)"
      ]
     },
     "execution_count": 9,
     "metadata": {},
     "output_type": "execute_result"
    }
   ],
   "source": [
    "model_tuned = RandomForestRegressor(\n",
    "    random_state = 42,\n",
    "    n_estimators = 272, \n",
    "    min_samples_split = 2,\n",
    "    min_samples_leaf = 4,\n",
    "    max_features = 'sqrt',\n",
    "    max_depth = 41,\n",
    "    bootstrap = True)\n",
    "\n",
    "model_tuned.fit(train_data_X, train_data_Y)"
   ]
  },
  {
   "cell_type": "markdown",
   "id": "2b60cdb7",
   "metadata": {},
   "source": [
    "### Porównanie modeli"
   ]
  },
  {
   "cell_type": "markdown",
   "id": "e76acfdd",
   "metadata": {},
   "source": [
    "#### Model domyślny"
   ]
  },
  {
   "cell_type": "code",
   "execution_count": 10,
   "id": "67cb32c4",
   "metadata": {},
   "outputs": [],
   "source": [
    "expected_values = test_data[target].to_numpy()"
   ]
  },
  {
   "cell_type": "code",
   "execution_count": 11,
   "id": "febabddb",
   "metadata": {
    "scrolled": true
   },
   "outputs": [],
   "source": [
    "predicted_values_default = model_default.predict(test_data[features])"
   ]
  },
  {
   "cell_type": "code",
   "execution_count": 12,
   "id": "93985935",
   "metadata": {},
   "outputs": [
    {
     "data": {
      "text/plain": [
       "122.06880514140224"
      ]
     },
     "execution_count": 12,
     "metadata": {},
     "output_type": "execute_result"
    }
   ],
   "source": [
    "MSE_default = (np.square(expected_values - predicted_values_default)).mean()\n",
    "MSE_default"
   ]
  },
  {
   "cell_type": "markdown",
   "id": "1c5f1359",
   "metadata": {},
   "source": [
    "#### Model dostrojony"
   ]
  },
  {
   "cell_type": "code",
   "execution_count": 13,
   "id": "471242a3",
   "metadata": {
    "scrolled": true
   },
   "outputs": [],
   "source": [
    "predicted_values_tuned = model_tuned.predict(test_data[features])"
   ]
  },
  {
   "cell_type": "code",
   "execution_count": 14,
   "id": "c763c853",
   "metadata": {
    "scrolled": true
   },
   "outputs": [
    {
     "data": {
      "text/plain": [
       "110.70194167683361"
      ]
     },
     "execution_count": 14,
     "metadata": {},
     "output_type": "execute_result"
    }
   ],
   "source": [
    "MSE_tuned = (np.square(expected_values - predicted_values_tuned)).mean()\n",
    "MSE_tuned"
   ]
  },
  {
   "cell_type": "markdown",
   "id": "53ab30d4",
   "metadata": {},
   "source": [
    "#### Stosunek błędów średniokwadratowych"
   ]
  },
  {
   "cell_type": "code",
   "execution_count": 15,
   "id": "49ffda8a",
   "metadata": {
    "scrolled": true
   },
   "outputs": [
    {
     "data": {
      "text/plain": [
       "1.1026798924426395"
      ]
     },
     "execution_count": 15,
     "metadata": {},
     "output_type": "execute_result"
    }
   ],
   "source": [
    "MSE_default / MSE_tuned"
   ]
  },
  {
   "cell_type": "markdown",
   "id": "3c1557b2",
   "metadata": {},
   "source": [
    "Model ze strojonymi parametrami uzyskał $10\\%$ mniejszy błąd średniokwadratowy na zbiorze testowym"
   ]
  },
  {
   "cell_type": "markdown",
   "id": "31d8a09e",
   "metadata": {},
   "source": [
    "### Zapisanie gotowego modelu do pliku"
   ]
  },
  {
   "cell_type": "markdown",
   "id": "c907bcd7",
   "metadata": {},
   "source": [
    "Ze względu na mniejszy błąd średniokwadratowy modelu dostrajanego to on został wybrany "
   ]
  },
  {
   "cell_type": "code",
   "execution_count": 16,
   "id": "a71a41d8",
   "metadata": {},
   "outputs": [
    {
     "data": {
      "text/plain": [
       "['../models/random_forest_model.joblib']"
      ]
     },
     "execution_count": 16,
     "metadata": {},
     "output_type": "execute_result"
    }
   ],
   "source": [
    "dump(model_tuned, \"../models/random_forest_model.joblib\")"
   ]
  }
 ],
 "metadata": {
  "kernelspec": {
   "display_name": "Python 3 (ipykernel)",
   "language": "python",
   "name": "python3"
  },
  "language_info": {
   "codemirror_mode": {
    "name": "ipython",
    "version": 3
   },
   "file_extension": ".py",
   "mimetype": "text/x-python",
   "name": "python",
   "nbconvert_exporter": "python",
   "pygments_lexer": "ipython3",
   "version": "3.7.0"
  }
 },
 "nbformat": 4,
 "nbformat_minor": 5
}
