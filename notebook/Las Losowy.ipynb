{
 "cells": [
  {
   "cell_type": "markdown",
   "id": "e618ce6c",
   "metadata": {},
   "source": [
    "### Las Losowy"
   ]
  },
  {
   "cell_type": "code",
   "execution_count": 1,
   "id": "44527249",
   "metadata": {},
   "outputs": [],
   "source": [
    "import numpy as np\n",
    "import pandas as pd\n",
    "from sklearn.ensemble import RandomForestRegressor\n",
    "from joblib import dump, load"
   ]
  },
  {
   "cell_type": "code",
   "execution_count": 2,
   "id": "41de3da1",
   "metadata": {},
   "outputs": [],
   "source": [
    "def loadData(file_name):\n",
    "    return pd.read_csv(\"../data/processed/\" + file_name)\n",
    "\n",
    "train_data = loadData(\"train.csv\")\n",
    "test_data = loadData(\"test.csv\")"
   ]
  },
  {
   "cell_type": "code",
   "execution_count": 3,
   "id": "d64341d3",
   "metadata": {},
   "outputs": [],
   "source": [
    "target = \"time\"\n",
    "features = train_data.columns.tolist()\n",
    "features.remove(target)"
   ]
  },
  {
   "cell_type": "markdown",
   "id": "1f885765",
   "metadata": {},
   "source": [
    "### Trenowanie modelu"
   ]
  },
  {
   "cell_type": "code",
   "execution_count": 4,
   "id": "db87ea12",
   "metadata": {},
   "outputs": [],
   "source": [
    "train_data_X = train_data[features]\n",
    "train_data_Y = train_data[target]"
   ]
  },
  {
   "cell_type": "code",
   "execution_count": 5,
   "id": "7ac4ff08",
   "metadata": {
    "scrolled": true
   },
   "outputs": [
    {
     "data": {
      "text/plain": [
       "RandomForestRegressor()"
      ]
     },
     "execution_count": 5,
     "metadata": {},
     "output_type": "execute_result"
    }
   ],
   "source": [
    "model = RandomForestRegressor()\n",
    "model.fit(train_data_X, train_data_Y)"
   ]
  },
  {
   "cell_type": "markdown",
   "id": "31d8a09e",
   "metadata": {},
   "source": [
    "### Zapisanie gotowego modelu do pliku"
   ]
  },
  {
   "cell_type": "code",
   "execution_count": 6,
   "id": "a71a41d8",
   "metadata": {},
   "outputs": [
    {
     "data": {
      "text/plain": [
       "['../models/random_forest_model.joblib']"
      ]
     },
     "execution_count": 6,
     "metadata": {},
     "output_type": "execute_result"
    }
   ],
   "source": [
    "dump(model, \"../models/random_forest_model.joblib\")"
   ]
  },
  {
   "cell_type": "markdown",
   "id": "a0b43436",
   "metadata": {},
   "source": [
    "### Obliczenie błędu średniokwadratowego dla lasu losowego na zbiorze testowym"
   ]
  },
  {
   "cell_type": "code",
   "execution_count": 7,
   "id": "d4fb8dad",
   "metadata": {},
   "outputs": [],
   "source": [
    "predicted_values = model.predict(test_data[features])\n",
    "expected_values = test_data[target].to_numpy()"
   ]
  },
  {
   "cell_type": "code",
   "execution_count": 8,
   "id": "0b7cbfcd",
   "metadata": {},
   "outputs": [],
   "source": [
    "MSE = (np.square(expected_values - predicted_values)).mean()"
   ]
  },
  {
   "cell_type": "code",
   "execution_count": 9,
   "id": "00d57e5c",
   "metadata": {},
   "outputs": [
    {
     "data": {
      "text/plain": [
       "39.1199860748716"
      ]
     },
     "execution_count": 9,
     "metadata": {},
     "output_type": "execute_result"
    }
   ],
   "source": [
    "MSE"
   ]
  }
 ],
 "metadata": {
  "kernelspec": {
   "display_name": "Python 3 (ipykernel)",
   "language": "python",
   "name": "python3"
  },
  "language_info": {
   "codemirror_mode": {
    "name": "ipython",
    "version": 3
   },
   "file_extension": ".py",
   "mimetype": "text/x-python",
   "name": "python",
   "nbconvert_exporter": "python",
   "pygments_lexer": "ipython3",
   "version": "3.7.0"
  }
 },
 "nbformat": 4,
 "nbformat_minor": 5
}
